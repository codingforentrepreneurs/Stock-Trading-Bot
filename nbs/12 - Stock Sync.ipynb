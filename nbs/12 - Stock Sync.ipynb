{
 "cells": [
  {
   "cell_type": "code",
   "execution_count": 1,
   "id": "e85ed483-d2ef-4920-a1b5-51dd0eddf4a6",
   "metadata": {},
   "outputs": [],
   "source": [
    "import setup\n",
    "setup.init_django()"
   ]
  },
  {
   "cell_type": "code",
   "execution_count": 2,
   "id": "b5f1177d-e522-49bc-b1c5-3a789fc5f705",
   "metadata": {},
   "outputs": [],
   "source": [
    "from market.models import *"
   ]
  },
  {
   "cell_type": "code",
   "execution_count": 3,
   "id": "f3298897-bf95-471b-bae6-37cacb7ed81c",
   "metadata": {},
   "outputs": [
    {
     "data": {
      "text/plain": [
       "4"
      ]
     },
     "execution_count": 3,
     "metadata": {},
     "output_type": "execute_result"
    }
   ],
   "source": [
    "qs = Company.objects.filter(active=True)\n",
    "qs.count()"
   ]
  },
  {
   "cell_type": "code",
   "execution_count": 4,
   "id": "f30c0322-e35f-4e18-9a2c-50d268e5aed8",
   "metadata": {},
   "outputs": [],
   "source": [
    "obj, created = Company.objects.get_or_create(name='Meta', ticker='META')\n",
    "obj.save()\n",
    "# force ticker to be uppercase"
   ]
  },
  {
   "cell_type": "code",
   "execution_count": 5,
   "id": "f8c28536-d16e-41c2-8284-46577078612e",
   "metadata": {},
   "outputs": [],
   "source": [
    "for company in qs:\n",
    "    company.save()"
   ]
  },
  {
   "cell_type": "code",
   "execution_count": 6,
   "id": "4c5bf189-0375-4420-9c4d-b5315dd0aa9b",
   "metadata": {},
   "outputs": [],
   "source": [
    "# Company.objects.create(name='Microsoft', ticker='MSFT')"
   ]
  },
  {
   "cell_type": "code",
   "execution_count": 7,
   "id": "86fd4a90-c350-4688-8f81-a69826dff6ec",
   "metadata": {},
   "outputs": [
    {
     "data": {
      "text/plain": [
       "701190"
      ]
     },
     "execution_count": 7,
     "metadata": {},
     "output_type": "execute_result"
    }
   ],
   "source": [
    "stocks = StockQuote.objects.all()\n",
    "stocks.count()"
   ]
  },
  {
   "cell_type": "code",
   "execution_count": 8,
   "id": "5126a4b3-b93c-4094-8bd3-b53c949efa16",
   "metadata": {},
   "outputs": [],
   "source": [
    "start_from_strach = False\n",
    "if start_from_strach:\n",
    "    stocks.delete()"
   ]
  },
  {
   "cell_type": "code",
   "execution_count": 9,
   "id": "08e405d1-d119-4710-bf34-ca66c381bb82",
   "metadata": {},
   "outputs": [],
   "source": [
    "from market import tasks as market_tasks"
   ]
  },
  {
   "cell_type": "code",
   "execution_count": 10,
   "id": "a7cb0d48-b7f2-41de-acc0-e457c677e47f",
   "metadata": {},
   "outputs": [
    {
     "data": {
      "text/plain": [
       "<AsyncResult: 0cec97ab-1686-460d-80d8-7169c070d860>"
      ]
     },
     "execution_count": 10,
     "metadata": {},
     "output_type": "execute_result"
    }
   ],
   "source": [
    "market_tasks.sync_stock_data.delay()"
   ]
  },
  {
   "cell_type": "code",
   "execution_count": 15,
   "id": "6dae3ec6-9d74-4680-a1e0-c8100291b012",
   "metadata": {},
   "outputs": [
    {
     "data": {
      "text/plain": [
       "1295"
      ]
     },
     "execution_count": 15,
     "metadata": {},
     "output_type": "execute_result"
    }
   ],
   "source": [
    "StockQuote.objects.all().count()"
   ]
  },
  {
   "cell_type": "code",
   "execution_count": null,
   "id": "e25e1d09-d4a0-4018-81b4-6bc33310c82d",
   "metadata": {},
   "outputs": [],
   "source": []
  },
  {
   "cell_type": "code",
   "execution_count": null,
   "id": "33bdaa0b-88d7-445a-bcbe-0296c416a0ea",
   "metadata": {},
   "outputs": [],
   "source": []
  }
 ],
 "metadata": {
  "kernelspec": {
   "display_name": "Python 3 (ipykernel)",
   "language": "python",
   "name": "python3"
  },
  "language_info": {
   "codemirror_mode": {
    "name": "ipython",
    "version": 3
   },
   "file_extension": ".py",
   "mimetype": "text/x-python",
   "name": "python",
   "nbconvert_exporter": "python",
   "pygments_lexer": "ipython3",
   "version": "3.12.3"
  }
 },
 "nbformat": 4,
 "nbformat_minor": 5
}
