{
 "cells": [
  {
   "cell_type": "code",
   "execution_count": 1,
   "id": "e85ed483-d2ef-4920-a1b5-51dd0eddf4a6",
   "metadata": {},
   "outputs": [],
   "source": [
    "import setup\n",
    "setup.init_django()"
   ]
  },
  {
   "cell_type": "code",
   "execution_count": 2,
   "id": "9b9ca555-32fb-4f46-a606-48e409b235f7",
   "metadata": {},
   "outputs": [],
   "source": [
    "from market import services as market_services"
   ]
  },
  {
   "cell_type": "code",
   "execution_count": null,
   "id": "b0d27cf2-6c7c-4dfa-9425-6da85d9a0e32",
   "metadata": {},
   "outputs": [],
   "source": []
  },
  {
   "cell_type": "code",
   "execution_count": 3,
   "id": "4b007fdc-9a97-4d82-b386-e1e885704073",
   "metadata": {},
   "outputs": [],
   "source": [
    "def get_stock_indicators(ticker = \"AAPL\", days=30):\n",
    "    queryset = market_services.get_daily_stock_quotes_queryset(ticker, days=days)\n",
    "    if queryset.count() == 0:\n",
    "        raise Exception(f\"Data for {ticker} not found\")\n",
    "    averages = market_services.get_daily_moving_averages(ticker, days=days, queryset=queryset)\n",
    "    price_target = market_services.get_price_target(ticker, days=days, queryset=queryset)\n",
    "    volume_trend = market_services.get_volume_trend(ticker, days=days, queryset=queryset)\n",
    "    rsi_data = market_services.calculate_rsi(ticker, days=days, period=14)\n",
    "    signals = []\n",
    "    if averages.get('ma_5') > averages.get('ma_20'):\n",
    "        signals.append(1)\n",
    "    else:\n",
    "        signals.append(-1)\n",
    "    if price_target.get('current_price') < price_target.get('conservative_target'):\n",
    "        signals.append(1)\n",
    "    else:\n",
    "        signals.append(-1)\n",
    "    if volume_trend.get(\"volume_change_percent\") > 20:\n",
    "        signals.append(1)\n",
    "    elif volume_trend.get(\"volume_change_percent\") < -20:\n",
    "        signals.append(-1)\n",
    "    else:\n",
    "        signals.append(0)\n",
    "    rsi = rsi_data.get('rsi')\n",
    "    if rsi > 70:\n",
    "        signals.append(-1)  # Overbought\n",
    "    elif rsi < 30:\n",
    "        signals.append(1) # Oversold\n",
    "    else:\n",
    "        signals.append(0)\n",
    "    return {\n",
    "        \"score\": sum(signals),\n",
    "        \"ticker\": ticker,\n",
    "        \"indicators\": {\n",
    "            **averages,\n",
    "            **price_target,\n",
    "            **volume_trend,\n",
    "            **rsi_data,\n",
    "        }\n",
    "        \n",
    "    }"
   ]
  },
  {
   "cell_type": "code",
   "execution_count": 4,
   "id": "cd8d0220-ec15-4a25-9d51-764c41ae1f12",
   "metadata": {},
   "outputs": [
    {
     "data": {
      "text/plain": [
       "{'score': 1,\n",
       " 'ticker': 'AAPL',\n",
       " 'indicators': {'ma_5': 225.55,\n",
       "  'ma_20': 227.6489,\n",
       "  'current_price': 227.5099,\n",
       "  'conservative_target': 233.2246,\n",
       "  'aggressive_target': 236.7552,\n",
       "  'average_price': 228.562,\n",
       "  'avg_volume': 8804.291666666666,\n",
       "  'latest_volume': 103886,\n",
       "  'volume_change_percent': 1079.947279499108,\n",
       "  'rsi': 42.676,\n",
       "  'avg_gain': 0.8386,\n",
       "  'avg_loss': 1.1265,\n",
       "  'period': 14,\n",
       "  'days': 30}}"
      ]
     },
     "execution_count": 4,
     "metadata": {},
     "output_type": "execute_result"
    }
   ],
   "source": [
    "results = get_stock_indicators(ticker='AAPL')\n",
    "score = results.get(\"score\")\n",
    "results"
   ]
  },
  {
   "cell_type": "code",
   "execution_count": 7,
   "id": "17a821e5-1584-47f7-b53b-c2d204deabfe",
   "metadata": {},
   "outputs": [],
   "source": [
    "import json\n",
    "from decouple import config"
   ]
  },
  {
   "cell_type": "code",
   "execution_count": 8,
   "id": "7e5ec9bd-786c-405c-abe3-157889edefe4",
   "metadata": {},
   "outputs": [
    {
     "data": {
      "text/plain": [
       "'{\"score\": 1, \"ticker\": \"AAPL\", \"indicators\": {\"ma_5\": 225.55, \"ma_20\": 227.6489, \"current_price\": 227.5099, \"conservative_target\": 233.2246, \"aggressive_target\": 236.7552, \"average_price\": 228.562, \"avg_volume\": 8804.291666666666, \"latest_volume\": 103886, \"volume_change_percent\": 1079.947279499108, \"rsi\": 42.676, \"avg_gain\": 0.8386, \"avg_loss\": 1.1265, \"period\": 14, \"days\": 30}}'"
      ]
     },
     "execution_count": 8,
     "metadata": {},
     "output_type": "execute_result"
    }
   ],
   "source": [
    "results_as_json = json.dumps(results)\n",
    "results_as_json"
   ]
  },
  {
   "cell_type": "code",
   "execution_count": 9,
   "id": "7f7cb784-4c04-4c3c-a37e-75b54be43388",
   "metadata": {},
   "outputs": [],
   "source": [
    "OPENAI_API_KEY=config(\"OPENAI_API_KEY\", default=None)"
   ]
  },
  {
   "cell_type": "code",
   "execution_count": 10,
   "id": "879c180e-8fbb-47ca-a7e6-cd6e56c0639c",
   "metadata": {},
   "outputs": [],
   "source": [
    "assert OPENAI_API_KEY is not None"
   ]
  },
  {
   "cell_type": "code",
   "execution_count": 11,
   "id": "604bbae2-876e-4e94-8db4-9f070d2e6082",
   "metadata": {},
   "outputs": [],
   "source": [
    "from openai import OpenAI\n",
    "client = OpenAI(api_key=OPENAI_API_KEY)"
   ]
  },
  {
   "cell_type": "code",
   "execution_count": 20,
   "id": "7c6817f4-6676-4e2d-af52-4492e11bdc2a",
   "metadata": {},
   "outputs": [],
   "source": [
    "response = client.chat.completions.create(\n",
    "    model=\"gpt-4o-mini\",\n",
    "    messages=[\n",
    "        {\"role\": \"system\", \"content\": \"You are an expert an analyzing stocks and respond in JSON data\"},\n",
    "        {\"role\": \"user\", \"content\": f\"Considering these results {results_as_json}, provide a recommendation\"}\n",
    "    ],\n",
    "    response_format={\n",
    "        \"type\": \"json_schema\",\n",
    "        \"json_schema\": {\n",
    "            \"name\": \"recommendation\",\n",
    "            \"schema\": {\n",
    "                \"type\": \"object\",\n",
    "                \"properties\": {\n",
    "                    \"buy\": {\n",
    "                        \"description\": \"Recommend to buy stock\",\n",
    "                        \"type\": \"boolean\"\n",
    "                    },\n",
    "                    \"sell\": {\n",
    "                        \"description\": \"Recommend to sell stock\",\n",
    "                        \"type\": \"boolean\"\n",
    "                    },\n",
    "                    \"hold\": {\n",
    "                        \"description\": \"Recommend to hold stock\",\n",
    "                        \"type\": \"boolean\"\n",
    "                    },\n",
    "                    \"explanation\": {\n",
    "                        \"description\": \"Explanation of reasoning in 1 or 2 sentences\",\n",
    "                        \"type\": \"string\"\n",
    "                    },\n",
    "                    \"additionalProperties\": False\n",
    "                }\n",
    "            }\n",
    "        }\n",
    "    }\n",
    ")"
   ]
  },
  {
   "cell_type": "code",
   "execution_count": 21,
   "id": "e0b30373-f882-41a7-a569-f5f543cfe7b4",
   "metadata": {},
   "outputs": [
    {
     "data": {
      "text/plain": [
       "{'buy': False,\n",
       " 'sell': False,\n",
       " 'hold': True,\n",
       " 'explanation': 'The stock price of AAPL is currently below its moving averages and the RSI indicates it is close to oversold conditions. Although there is potential for a price increase towards the conservative and aggressive targets, the overall momentum suggests holding rather than buying or selling at this time.'}"
      ]
     },
     "execution_count": 21,
     "metadata": {},
     "output_type": "execute_result"
    }
   ],
   "source": [
    "result = json.loads(response.choices[0].message.content)\n",
    "result"
   ]
  },
  {
   "cell_type": "code",
   "execution_count": 15,
   "id": "b14531ce-5dfc-4620-96c7-bcab3d0dec45",
   "metadata": {},
   "outputs": [
    {
     "data": {
      "text/plain": [
       "True"
      ]
     },
     "execution_count": 15,
     "metadata": {},
     "output_type": "execute_result"
    }
   ],
   "source": [
    "result.get('hold') is True"
   ]
  },
  {
   "cell_type": "code",
   "execution_count": null,
   "id": "3c65d0c6-3fd2-4315-850d-cdc1c6b8b835",
   "metadata": {},
   "outputs": [],
   "source": []
  }
 ],
 "metadata": {
  "kernelspec": {
   "display_name": "Python 3 (ipykernel)",
   "language": "python",
   "name": "python3"
  },
  "language_info": {
   "codemirror_mode": {
    "name": "ipython",
    "version": 3
   },
   "file_extension": ".py",
   "mimetype": "text/x-python",
   "name": "python",
   "nbconvert_exporter": "python",
   "pygments_lexer": "ipython3",
   "version": "3.12.3"
  }
 },
 "nbformat": 4,
 "nbformat_minor": 5
}
