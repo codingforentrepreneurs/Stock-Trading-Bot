{
 "cells": [
  {
   "cell_type": "code",
   "execution_count": 1,
   "id": "e85ed483-d2ef-4920-a1b5-51dd0eddf4a6",
   "metadata": {},
   "outputs": [],
   "source": [
    "import setup\n",
    "setup.init_django()"
   ]
  },
  {
   "cell_type": "code",
   "execution_count": 2,
   "id": "9b9ca555-32fb-4f46-a606-48e409b235f7",
   "metadata": {},
   "outputs": [],
   "source": [
    "from market.models import StockQuote"
   ]
  },
  {
   "cell_type": "code",
   "execution_count": 29,
   "id": "31ffb14d-43f3-4bbb-813b-50526ff9bfd6",
   "metadata": {},
   "outputs": [],
   "source": [
    "from django.db.models import (\n",
    "    Avg, \n",
    "    F,\n",
    "    RowRange,\n",
    "    Window,\n",
    "    Max,\n",
    "    Min,\n",
    "    ExpressionWrapper,\n",
    "    DecimalField,\n",
    "    Case,\n",
    "    When,\n",
    "    Value\n",
    ")\n",
    "from django.db.models.functions import TruncDate, FirstValue, Lag, Coalesce\n",
    "from django.utils import timezone\n",
    "from datetime import timedelta\n",
    "from decimal import Decimal"
   ]
  },
  {
   "cell_type": "code",
   "execution_count": 30,
   "id": "6ca3de8b-c2a8-44de-a6c7-6d5c1c6813a1",
   "metadata": {},
   "outputs": [],
   "source": [
    "def calculate_rsi(ticker, days=28):\n",
    "    \"\"\"\n",
    "    Calculate Relative Strength Index (RSI) using Django ORM.\n",
    "    \n",
    "    Args:\n",
    "        ticker (str): Stock ticker symbol\n",
    "        period (int): RSI period (default: 14)\n",
    "    \n",
    "    Returns:\n",
    "        dict: RSI value and component calculations\n",
    "    \"\"\"\n",
    "    end_date = timezone.now()\n",
    "    period = int(days / 4)  \n",
    "    start_date = end_date - timedelta(days=days)\n",
    "    \n",
    "    # Get daily price data\n",
    "    daily_data = (\n",
    "        StockQuote.timescale\n",
    "        .filter(company__ticker=ticker, time__range=(start_date, end_date))\n",
    "        .time_bucket('time', '1 day')\n",
    "        .order_by('bucket')\n",
    "    )\n",
    "    \n",
    "    # Calculate price changes and gains/losses with explicit decimal conversion\n",
    "    movement = daily_data.annotate(\n",
    "        closing_price=ExpressionWrapper(\n",
    "            F('close_price'),\n",
    "            output_field=DecimalField(max_digits=10, decimal_places=4)\n",
    "        ),\n",
    "        prev_close=Window(\n",
    "            expression=Lag('close_price'),\n",
    "            order_by=F('bucket').asc(),\n",
    "            partition_by=[],\n",
    "            output_field=DecimalField(max_digits=10, decimal_places=4)\n",
    "        )\n",
    "    ).annotate(\n",
    "        price_change=ExpressionWrapper(\n",
    "            F('close_price') - F('prev_close'),\n",
    "            output_field=DecimalField(max_digits=10, decimal_places=4)\n",
    "        ),\n",
    "        gain=Case(\n",
    "            When(price_change__gt=0, \n",
    "                 then=ExpressionWrapper(\n",
    "                     F('price_change'),\n",
    "                     output_field=DecimalField(max_digits=10, decimal_places=4)\n",
    "                 )),\n",
    "            default=Value(0, output_field=DecimalField(max_digits=10, decimal_places=4)),\n",
    "            output_field=DecimalField(max_digits=10, decimal_places=4)\n",
    "        ),\n",
    "        loss=Case(\n",
    "            When(price_change__lt=0,\n",
    "                 then=ExpressionWrapper(\n",
    "                     -F('price_change'),\n",
    "                     output_field=DecimalField(max_digits=10, decimal_places=4)\n",
    "                 )),\n",
    "            default=Value(0, output_field=DecimalField(max_digits=10, decimal_places=4)),\n",
    "            output_field=DecimalField(max_digits=10, decimal_places=4)\n",
    "        )\n",
    "    )\n",
    "    \n",
    "    # Calculate initial averages for the first period\n",
    "    initial_avg = movement.exclude(prev_close__isnull=True)[:period].aggregate(\n",
    "        avg_gain=Coalesce(\n",
    "            ExpressionWrapper(\n",
    "                Avg('gain'),\n",
    "                output_field=DecimalField(max_digits=10, decimal_places=4)\n",
    "            ),\n",
    "            Value(0, output_field=DecimalField(max_digits=10, decimal_places=4))\n",
    "        ),\n",
    "        avg_loss=Coalesce(\n",
    "            ExpressionWrapper(\n",
    "                Avg('loss'),\n",
    "                output_field=DecimalField(max_digits=10, decimal_places=4)\n",
    "            ),\n",
    "            Value(0, output_field=DecimalField(max_digits=10, decimal_places=4))\n",
    "        )\n",
    "    )\n",
    "    \n",
    "    # Get subsequent data points for EMA calculation\n",
    "    subsequent_data = list(movement.exclude(prev_close__isnull=True)[period:].values('gain', 'loss'))\n",
    "    \n",
    "    # Calculate EMA-based RSI\n",
    "    avg_gain = initial_avg['avg_gain']\n",
    "    avg_loss = initial_avg['avg_loss']\n",
    "    alpha = Decimal(1 / period)  # Smoothing factor\n",
    "    \n",
    "    # Update moving averages using EMA formula\n",
    "    for data in subsequent_data:\n",
    "        avg_gain = (avg_gain * (1 - alpha) + data['gain'] * alpha)\n",
    "        avg_loss = (avg_loss * (1 - alpha) + data['loss'] * alpha)\n",
    "    \n",
    "    # Prevent division by zero\n",
    "    if avg_loss == 0:\n",
    "        rsi = 100\n",
    "    else:\n",
    "        rs = avg_gain / avg_loss\n",
    "        rsi = 100 - (100 / (1 + rs))\n",
    "    \n",
    "    return {\n",
    "        'rsi': round(float(rsi), 4),\n",
    "        'avg_gain': round(float(avg_gain), 4),\n",
    "        'avg_loss': round(float(avg_loss), 4),\n",
    "        'period': period\n",
    "    }"
   ]
  },
  {
   "cell_type": "code",
   "execution_count": 31,
   "id": "8bc44c5c-99f4-4b12-ac6e-1fd4c3805604",
   "metadata": {},
   "outputs": [],
   "source": [
    "rsi_data = calculate_rsi('AAPL', days=28)"
   ]
  },
  {
   "cell_type": "code",
   "execution_count": 32,
   "id": "df5a66b1-34bc-414d-a146-90cb63b96e62",
   "metadata": {},
   "outputs": [
    {
     "data": {
      "text/plain": [
       "{'rsi': 59.7531, 'avg_gain': 0.0543, 'avg_loss': 0.0365, 'period': 7}"
      ]
     },
     "execution_count": 32,
     "metadata": {},
     "output_type": "execute_result"
    }
   ],
   "source": [
    "rsi_data"
   ]
  },
  {
   "cell_type": "code",
   "execution_count": null,
   "id": "92ad1df1-ae1f-411f-aa4b-48f854015315",
   "metadata": {},
   "outputs": [],
   "source": []
  }
 ],
 "metadata": {
  "kernelspec": {
   "display_name": "Python 3 (ipykernel)",
   "language": "python",
   "name": "python3"
  },
  "language_info": {
   "codemirror_mode": {
    "name": "ipython",
    "version": 3
   },
   "file_extension": ".py",
   "mimetype": "text/x-python",
   "name": "python",
   "nbconvert_exporter": "python",
   "pygments_lexer": "ipython3",
   "version": "3.12.3"
  }
 },
 "nbformat": 4,
 "nbformat_minor": 5
}
