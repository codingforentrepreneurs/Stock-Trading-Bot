{
 "cells": [
  {
   "cell_type": "code",
   "execution_count": 1,
   "id": "e85ed483-d2ef-4920-a1b5-51dd0eddf4a6",
   "metadata": {},
   "outputs": [],
   "source": [
    "import setup\n",
    "setup.init_django()"
   ]
  },
  {
   "cell_type": "code",
   "execution_count": 2,
   "id": "9b9ca555-32fb-4f46-a606-48e409b235f7",
   "metadata": {},
   "outputs": [],
   "source": [
    "from market.models import StockQuote"
   ]
  },
  {
   "cell_type": "code",
   "execution_count": 12,
   "id": "31ffb14d-43f3-4bbb-813b-50526ff9bfd6",
   "metadata": {},
   "outputs": [],
   "source": [
    "from django.db.models import Avg, F, RowRange, Window\n",
    "from django.utils import timezone\n",
    "from datetime import timedelta\n",
    "from decimal import Decimal"
   ]
  },
  {
   "cell_type": "code",
   "execution_count": 17,
   "id": "cee627e2-6fe5-4b27-9027-8e07ffbe24b8",
   "metadata": {},
   "outputs": [
    {
     "data": {
      "text/plain": [
       "19054"
      ]
     },
     "execution_count": 17,
     "metadata": {},
     "output_type": "execute_result"
    }
   ],
   "source": [
    "days_ago = 30\n",
    "now = timezone.now()\n",
    "start_date = now - timedelta(days=30)\n",
    "end_date = now\n",
    "\n",
    "qs = StockQuote.objects.filter(time__range=(start_date, end_date))\n",
    "qs.count()"
   ]
  },
  {
   "cell_type": "code",
   "execution_count": 18,
   "id": "0415473f-c008-4f14-a37e-ca6f264313d6",
   "metadata": {},
   "outputs": [],
   "source": [
    "total = 0\n",
    "for obj in qs:\n",
    "    total += obj.close_price"
   ]
  },
  {
   "cell_type": "code",
   "execution_count": 19,
   "id": "41e0ac06-3e07-42ac-b781-f154ce9d3ca7",
   "metadata": {},
   "outputs": [
    {
     "data": {
      "text/plain": [
       "Decimal('301.3180998950351632203211924')"
      ]
     },
     "execution_count": 19,
     "metadata": {},
     "output_type": "execute_result"
    }
   ],
   "source": [
    "total / qs.count()"
   ]
  },
  {
   "cell_type": "code",
   "execution_count": 20,
   "id": "50cbcb1c-a9c6-45c3-b8f2-177f19d7e995",
   "metadata": {},
   "outputs": [
    {
     "data": {
      "text/plain": [
       "<QuerySet [{'company': 3, 'avg_price': Decimal('578.0588562763268745')}, {'company': 2, 'avg_price': Decimal('172.1261418694690265')}, {'company': 7, 'avg_price': Decimal('420.8373171088251218')}, {'company': 1, 'avg_price': Decimal('229.1055368381618382')}, {'company': 8, 'avg_price': Decimal('140.8298014596793491')}]>"
      ]
     },
     "execution_count": 20,
     "metadata": {},
     "output_type": "execute_result"
    }
   ],
   "source": [
    "qs.values('company').annotate(avg_price=Avg('close_price'))"
   ]
  },
  {
   "cell_type": "code",
   "execution_count": 24,
   "id": "a8f1344a-5eb7-4eab-b785-2814f24acf48",
   "metadata": {},
   "outputs": [],
   "source": [
    "count = 5\n",
    "ticker = \"AAPL\"\n",
    "rolling_qs = list(qs.filter(company__ticker=ticker).order_by('-time')[:count])\n",
    "rolling_qs.reverse()"
   ]
  },
  {
   "cell_type": "code",
   "execution_count": 25,
   "id": "2daeab04-616c-4923-b866-3d2900a17997",
   "metadata": {},
   "outputs": [
    {
     "data": {
      "text/plain": [
       "[<StockQuote: StockQuote object (6466357)>,\n",
       " <StockQuote: StockQuote object (6466358)>,\n",
       " <StockQuote: StockQuote object (6466359)>,\n",
       " <StockQuote: StockQuote object (6466360)>,\n",
       " <StockQuote: StockQuote object (6466361)>]"
      ]
     },
     "execution_count": 25,
     "metadata": {},
     "output_type": "execute_result"
    }
   ],
   "source": [
    "rolling_qs"
   ]
  },
  {
   "cell_type": "code",
   "execution_count": 29,
   "id": "25e4ee18-7b1f-4a7c-b8e5-6e1c7586ce62",
   "metadata": {},
   "outputs": [
    {
     "name": "stdout",
     "output_type": "stream",
     "text": [
      "1 6466357 226.4512 226.4512\n",
      "2 6466358 226.3638 226.4075\n",
      "3 6466359 225.9787 226.2645666666666666666666667\n",
      "4 6466360 225.9750 226.192175\n",
      "5 6466361 225.9900 226.15174\n"
     ]
    }
   ],
   "source": [
    "total = 0\n",
    "for i, obj in enumerate(rolling_qs):\n",
    "    total += obj.close_price\n",
    "    avg = total / (i + 1)\n",
    "    print(i + 1, obj.id, obj.close_price, avg)"
   ]
  },
  {
   "cell_type": "code",
   "execution_count": 30,
   "id": "5a64b03f-7724-4253-a412-95a98ac1ff35",
   "metadata": {},
   "outputs": [],
   "source": [
    "qs = StockQuote.objects.filter(company__ticker=ticker, time__range=(start_date, end_date))"
   ]
  },
  {
   "cell_type": "code",
   "execution_count": 39,
   "id": "1586782f-2759-49eb-ae74-6611c1626813",
   "metadata": {},
   "outputs": [],
   "source": [
    "frame_start = -(count - 1)\n",
    "ma_val = qs.annotate(\n",
    "        ma=Window(\n",
    "            expression=Avg('close_price'),\n",
    "            order_by=F('time').asc(),\n",
    "            partition_by=[],\n",
    "            frame=RowRange(start=frame_start, end=0),\n",
    "        )\n",
    ").order_by('-time')"
   ]
  },
  {
   "cell_type": "code",
   "execution_count": 40,
   "id": "76e23c23-e0ec-4d1a-b5e4-0fe89d09643a",
   "metadata": {},
   "outputs": [
    {
     "name": "stdout",
     "output_type": "stream",
     "text": [
      "6466361 225.9900 226.1517400000000000 2024-11-13 18:40:00+00:00\n",
      "6466360 225.9750 226.2457400000000000 2024-11-13 18:35:00+00:00\n",
      "6466359 225.9787 226.3627400000000000 2024-11-13 18:30:00+00:00\n",
      "6466358 226.3638 226.4130000000000000 2024-11-13 18:25:00+00:00\n",
      "6466357 226.4512 226.4692400000000000 2024-11-13 18:20:00+00:00\n"
     ]
    }
   ],
   "source": [
    "for obj in ma_val[:5]:\n",
    "    print(obj.id, obj.close_price, obj.ma, obj.time)"
   ]
  },
  {
   "cell_type": "code",
   "execution_count": 38,
   "id": "2cce51aa-361e-47d2-9fbf-45dad2617707",
   "metadata": {},
   "outputs": [
    {
     "data": {
      "text/plain": [
       "(6466361,\n",
       " Decimal('225.9900'),\n",
       " Decimal('226.1517400000000000'),\n",
       " Decimal('225.9005650000000000'))"
      ]
     },
     "execution_count": 38,
     "metadata": {},
     "output_type": "execute_result"
    }
   ],
   "source": [
    "frame_start = -(count - 1)\n",
    "ma_vals = qs.annotate(\n",
    "        ma_5=Window(\n",
    "            expression=Avg('close_price'),\n",
    "            order_by=F('time').asc(),\n",
    "            partition_by=[],\n",
    "            frame=RowRange(start=-4, end=0),\n",
    "        ),\n",
    "        ma_20=Window(\n",
    "            expression=Avg('close_price'),\n",
    "            order_by=F('time').asc(),\n",
    "            partition_by=[],\n",
    "            frame=RowRange(start=-19, end=0),\n",
    "        )\n",
    ").order_by('-time').first()\n",
    "\n",
    "ma_vals.id, ma_vals.close_price, ma_vals.ma_5, ma_vals.ma_20"
   ]
  },
  {
   "cell_type": "code",
   "execution_count": null,
   "id": "9ee11312-df57-4bd1-bee6-1d4e2a94d00d",
   "metadata": {},
   "outputs": [],
   "source": []
  }
 ],
 "metadata": {
  "kernelspec": {
   "display_name": "Python 3 (ipykernel)",
   "language": "python",
   "name": "python3"
  },
  "language_info": {
   "codemirror_mode": {
    "name": "ipython",
    "version": 3
   },
   "file_extension": ".py",
   "mimetype": "text/x-python",
   "name": "python",
   "nbconvert_exporter": "python",
   "pygments_lexer": "ipython3",
   "version": "3.12.3"
  }
 },
 "nbformat": 4,
 "nbformat_minor": 5
}
