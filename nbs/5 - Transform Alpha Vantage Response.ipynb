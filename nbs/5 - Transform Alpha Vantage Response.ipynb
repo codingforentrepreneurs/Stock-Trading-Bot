{
 "cells": [
  {
   "cell_type": "code",
   "execution_count": 22,
   "id": "f037d501-ba41-4a68-ba0c-26bb0d9c4ef3",
   "metadata": {},
   "outputs": [],
   "source": [
    "from decouple import config"
   ]
  },
  {
   "cell_type": "code",
   "execution_count": 23,
   "id": "db49840c-4176-4433-b706-b26016eb50e2",
   "metadata": {},
   "outputs": [],
   "source": [
    "assert config(\"ALPHA_VANTAGE_API_KEY\", default=None, cast=str) is not None"
   ]
  },
  {
   "cell_type": "code",
   "execution_count": 24,
   "id": "e20f50e1-23d9-496c-a778-aeb8f2dd2957",
   "metadata": {},
   "outputs": [],
   "source": [
    "ALPHA_VANTAGE_API_KEY = config(\"ALPHA_VANTAGE_API_KEY\", default=None, cast=str)"
   ]
  },
  {
   "cell_type": "code",
   "execution_count": 28,
   "id": "5863d4d8-12d4-44e9-a83d-eef2898fde36",
   "metadata": {},
   "outputs": [],
   "source": [
    "import requests\n",
    "\n",
    "# replace the \"demo\" apikey below with your own key from https://www.alphavantage.co/support/#api-key\n",
    "\n",
    "\n",
    "api_key = ALPHA_VANTAGE_API_KEY\n",
    "\n",
    "params = {\n",
    "    \"api_key\": ALPHA_VANTAGE_API_KEY,\n",
    "    \"ticker\": \"AAPL\",\n",
    "    \"function\": \"TIME_SERIES_INTRADAY\"\n",
    "}\n",
    "\n",
    "url = 'https://www.alphavantage.co/query?function={function}&symbol={ticker}&interval=1min&apikey={api_key}'.format(\n",
    "    **params\n",
    ")\n",
    "r = requests.get(url)\n",
    "data = r.json()"
   ]
  },
  {
   "cell_type": "code",
   "execution_count": 34,
   "id": "737ec526-24ea-45d8-9ba2-38780f524a78",
   "metadata": {},
   "outputs": [
    {
     "data": {
      "text/plain": [
       "'Time Series (1min)'"
      ]
     },
     "execution_count": 34,
     "metadata": {},
     "output_type": "execute_result"
    }
   ],
   "source": [
    "dataset_key = [x for x in list(data.keys()) if not x.lower() == \"meta data\"][0]\n",
    "dataset_key"
   ]
  },
  {
   "cell_type": "code",
   "execution_count": 40,
   "id": "29022f7a-9f92-456d-b678-be2f0b4ab565",
   "metadata": {},
   "outputs": [],
   "source": [
    "results = data[dataset_key] # dict\n",
    "# for timestamp_str in results.keys():\n",
    "#     print(timestamp_str, results.get(timestamp_str))"
   ]
  },
  {
   "cell_type": "code",
   "execution_count": 42,
   "id": "c999c561-57eb-4c41-b419-57657237a26a",
   "metadata": {},
   "outputs": [
    {
     "data": {
      "text/plain": [
       "'2024-11-05 19:59:00'"
      ]
     },
     "execution_count": 42,
     "metadata": {},
     "output_type": "execute_result"
    }
   ],
   "source": [
    "timestamp_str = list(results.keys())[0]\n",
    "timestamp_str"
   ]
  },
  {
   "cell_type": "code",
   "execution_count": 58,
   "id": "975373af-9970-45cb-a67b-098062aefd18",
   "metadata": {},
   "outputs": [
    {
     "data": {
      "text/plain": [
       "datetime.datetime(2024, 11, 6, 0, 59, tzinfo=<UTC>)"
      ]
     },
     "execution_count": 58,
     "metadata": {},
     "output_type": "execute_result"
    }
   ],
   "source": []
  },
  {
   "cell_type": "code",
   "execution_count": 45,
   "id": "2ff29795-3630-46d6-9573-9e114fd790da",
   "metadata": {},
   "outputs": [
    {
     "data": {
      "text/plain": [
       "{'1. open': '223.0999',\n",
       " '2. high': '223.1500',\n",
       " '3. low': '222.9000',\n",
       " '4. close': '223.0000',\n",
       " '5. volume': '3003'}"
      ]
     },
     "execution_count": 45,
     "metadata": {},
     "output_type": "execute_result"
    }
   ],
   "source": [
    "result_val = results.get(timestamp_str)\n",
    "result_val"
   ]
  },
  {
   "cell_type": "code",
   "execution_count": 59,
   "id": "68fad20b-a4f3-468a-b243-db1b48da5a6b",
   "metadata": {},
   "outputs": [],
   "source": [
    "import pytz\n",
    "from datetime import datetime\n",
    "from decimal import Decimal\n",
    "\n",
    "def transform_alpha_vantage_result(timestamp_str, result):\n",
    "    # unix_timestamp = result.get('t') / 1000.0\n",
    "    # utc_timestamp = datetime.fromtimestamp(unix_timestamp, tz=pytz.timezone('UTC'))\n",
    "    timestamp_format = '%Y-%m-%d %H:%M:%S' \n",
    "    eastern = pytz.timezone(\"US/Eastern\")\n",
    "    utc = pytz.utc\n",
    "    timestamp = eastern.localize(datetime.strptime(timestamp_str,timestamp_format)).astimezone(utc)\n",
    "    return {\n",
    "        'open_price': Decimal(result['1. open']),\n",
    "        'close_price': Decimal(result['4. close']),\n",
    "        'high_price': Decimal(result['2. high']),\n",
    "        'low_price': Decimal(result['3. low']),\n",
    "        'number_of_trades': None,\n",
    "        'volume': int(result['5. volume']),\n",
    "        'volume_weighted_average': None,\n",
    "        'time': timestamp,\n",
    "    }"
   ]
  },
  {
   "cell_type": "code",
   "execution_count": 60,
   "id": "b1284545-ebe6-4534-8644-d4d543a84c67",
   "metadata": {},
   "outputs": [
    {
     "data": {
      "text/plain": [
       "{'open_price': Decimal('223.0999'),\n",
       " 'close_price': Decimal('223.0000'),\n",
       " 'high_price': Decimal('223.1500'),\n",
       " 'low_price': Decimal('222.9000'),\n",
       " 'number_of_trades': None,\n",
       " 'volume': 3003,\n",
       " 'volume_weighted_average': None,\n",
       " 'time': datetime.datetime(2024, 11, 6, 0, 59, tzinfo=<UTC>)}"
      ]
     },
     "execution_count": 60,
     "metadata": {},
     "output_type": "execute_result"
    }
   ],
   "source": [
    "transform_alpha_vantage_result(timestamp_str, result_val)"
   ]
  },
  {
   "cell_type": "code",
   "execution_count": 61,
   "id": "7dbe0a89-9c92-4257-9da7-2f6252ec16f9",
   "metadata": {},
   "outputs": [
    {
     "name": "stdout",
     "output_type": "stream",
     "text": [
      "{'open_price': Decimal('223.0999'), 'close_price': Decimal('223.0000'), 'high_price': Decimal('223.1500'), 'low_price': Decimal('222.9000'), 'number_of_trades': None, 'volume': 3003, 'volume_weighted_average': None, 'time': datetime.datetime(2024, 11, 6, 0, 59, tzinfo=<UTC>)}\n",
      "{'open_price': Decimal('222.9700'), 'close_price': Decimal('223.1000'), 'high_price': Decimal('223.1000'), 'low_price': Decimal('222.9000'), 'number_of_trades': None, 'volume': 5142, 'volume_weighted_average': None, 'time': datetime.datetime(2024, 11, 6, 0, 58, tzinfo=<UTC>)}\n",
      "{'open_price': Decimal('222.8600'), 'close_price': Decimal('223.0000'), 'high_price': Decimal('223.1000'), 'low_price': Decimal('222.8499'), 'number_of_trades': None, 'volume': 415, 'volume_weighted_average': None, 'time': datetime.datetime(2024, 11, 6, 0, 57, tzinfo=<UTC>)}\n",
      "{'open_price': Decimal('222.8400'), 'close_price': Decimal('222.8500'), 'high_price': Decimal('222.8656'), 'low_price': Decimal('222.8000'), 'number_of_trades': None, 'volume': 435, 'volume_weighted_average': None, 'time': datetime.datetime(2024, 11, 6, 0, 56, tzinfo=<UTC>)}\n",
      "{'open_price': Decimal('222.8500'), 'close_price': Decimal('222.8300'), 'high_price': Decimal('222.8800'), 'low_price': Decimal('222.8250'), 'number_of_trades': None, 'volume': 102, 'volume_weighted_average': None, 'time': datetime.datetime(2024, 11, 6, 0, 55, tzinfo=<UTC>)}\n",
      "{'open_price': Decimal('222.8500'), 'close_price': Decimal('222.8400'), 'high_price': Decimal('222.8500'), 'low_price': Decimal('222.8000'), 'number_of_trades': None, 'volume': 530, 'volume_weighted_average': None, 'time': datetime.datetime(2024, 11, 6, 0, 54, tzinfo=<UTC>)}\n",
      "{'open_price': Decimal('222.8500'), 'close_price': Decimal('222.8400'), 'high_price': Decimal('222.8500'), 'low_price': Decimal('222.8200'), 'number_of_trades': None, 'volume': 246, 'volume_weighted_average': None, 'time': datetime.datetime(2024, 11, 6, 0, 53, tzinfo=<UTC>)}\n",
      "{'open_price': Decimal('222.8100'), 'close_price': Decimal('222.8350'), 'high_price': Decimal('222.8350'), 'low_price': Decimal('222.8000'), 'number_of_trades': None, 'volume': 279, 'volume_weighted_average': None, 'time': datetime.datetime(2024, 11, 6, 0, 52, tzinfo=<UTC>)}\n",
      "{'open_price': Decimal('222.8700'), 'close_price': Decimal('222.8350'), 'high_price': Decimal('222.8700'), 'low_price': Decimal('222.7500'), 'number_of_trades': None, 'volume': 1118, 'volume_weighted_average': None, 'time': datetime.datetime(2024, 11, 6, 0, 51, tzinfo=<UTC>)}\n",
      "{'open_price': Decimal('222.5400'), 'close_price': Decimal('222.8540'), 'high_price': Decimal('222.8800'), 'low_price': Decimal('222.5400'), 'number_of_trades': None, 'volume': 437, 'volume_weighted_average': None, 'time': datetime.datetime(2024, 11, 6, 0, 50, tzinfo=<UTC>)}\n",
      "{'open_price': Decimal('222.7000'), 'close_price': Decimal('222.6800'), 'high_price': Decimal('222.7200'), 'low_price': Decimal('222.5400'), 'number_of_trades': None, 'volume': 50, 'volume_weighted_average': None, 'time': datetime.datetime(2024, 11, 6, 0, 49, tzinfo=<UTC>)}\n",
      "{'open_price': Decimal('222.7200'), 'close_price': Decimal('222.6300'), 'high_price': Decimal('222.9200'), 'low_price': Decimal('222.5200'), 'number_of_trades': None, 'volume': 1196, 'volume_weighted_average': None, 'time': datetime.datetime(2024, 11, 6, 0, 48, tzinfo=<UTC>)}\n",
      "{'open_price': Decimal('222.7200'), 'close_price': Decimal('222.5200'), 'high_price': Decimal('222.9200'), 'low_price': Decimal('222.5100'), 'number_of_trades': None, 'volume': 128, 'volume_weighted_average': None, 'time': datetime.datetime(2024, 11, 6, 0, 47, tzinfo=<UTC>)}\n",
      "{'open_price': Decimal('222.7200'), 'close_price': Decimal('222.7150'), 'high_price': Decimal('222.9300'), 'low_price': Decimal('222.6800'), 'number_of_trades': None, 'volume': 321, 'volume_weighted_average': None, 'time': datetime.datetime(2024, 11, 6, 0, 46, tzinfo=<UTC>)}\n",
      "{'open_price': Decimal('222.8800'), 'close_price': Decimal('222.8500'), 'high_price': Decimal('222.9300'), 'low_price': Decimal('222.5100'), 'number_of_trades': None, 'volume': 355, 'volume_weighted_average': None, 'time': datetime.datetime(2024, 11, 6, 0, 45, tzinfo=<UTC>)}\n",
      "{'open_price': Decimal('222.6800'), 'close_price': Decimal('222.8500'), 'high_price': Decimal('223.1000'), 'low_price': Decimal('222.6800'), 'number_of_trades': None, 'volume': 490, 'volume_weighted_average': None, 'time': datetime.datetime(2024, 11, 6, 0, 44, tzinfo=<UTC>)}\n",
      "{'open_price': Decimal('222.5500'), 'close_price': Decimal('222.7400'), 'high_price': Decimal('222.8050'), 'low_price': Decimal('222.4900'), 'number_of_trades': None, 'volume': 538, 'volume_weighted_average': None, 'time': datetime.datetime(2024, 11, 6, 0, 43, tzinfo=<UTC>)}\n",
      "{'open_price': Decimal('222.5500'), 'close_price': Decimal('222.4900'), 'high_price': Decimal('222.6000'), 'low_price': Decimal('222.4900'), 'number_of_trades': None, 'volume': 431, 'volume_weighted_average': None, 'time': datetime.datetime(2024, 11, 6, 0, 42, tzinfo=<UTC>)}\n",
      "{'open_price': Decimal('222.4750'), 'close_price': Decimal('222.5000'), 'high_price': Decimal('222.6000'), 'low_price': Decimal('222.0100'), 'number_of_trades': None, 'volume': 1042, 'volume_weighted_average': None, 'time': datetime.datetime(2024, 11, 6, 0, 41, tzinfo=<UTC>)}\n",
      "{'open_price': Decimal('222.4700'), 'close_price': Decimal('222.5000'), 'high_price': Decimal('222.5000'), 'low_price': Decimal('222.4500'), 'number_of_trades': None, 'volume': 304, 'volume_weighted_average': None, 'time': datetime.datetime(2024, 11, 6, 0, 40, tzinfo=<UTC>)}\n",
      "{'open_price': Decimal('222.5350'), 'close_price': Decimal('222.4800'), 'high_price': Decimal('222.6000'), 'low_price': Decimal('222.4700'), 'number_of_trades': None, 'volume': 1208, 'volume_weighted_average': None, 'time': datetime.datetime(2024, 11, 6, 0, 39, tzinfo=<UTC>)}\n",
      "{'open_price': Decimal('222.6050'), 'close_price': Decimal('222.5350'), 'high_price': Decimal('222.7000'), 'low_price': Decimal('222.5100'), 'number_of_trades': None, 'volume': 453, 'volume_weighted_average': None, 'time': datetime.datetime(2024, 11, 6, 0, 38, tzinfo=<UTC>)}\n",
      "{'open_price': Decimal('222.8800'), 'close_price': Decimal('222.7000'), 'high_price': Decimal('222.8900'), 'low_price': Decimal('222.5100'), 'number_of_trades': None, 'volume': 76, 'volume_weighted_average': None, 'time': datetime.datetime(2024, 11, 6, 0, 37, tzinfo=<UTC>)}\n",
      "{'open_price': Decimal('222.8400'), 'close_price': Decimal('222.8800'), 'high_price': Decimal('223.0000'), 'low_price': Decimal('222.7000'), 'number_of_trades': None, 'volume': 146, 'volume_weighted_average': None, 'time': datetime.datetime(2024, 11, 6, 0, 36, tzinfo=<UTC>)}\n",
      "{'open_price': Decimal('222.9200'), 'close_price': Decimal('222.5622'), 'high_price': Decimal('223.2000'), 'low_price': Decimal('222.4500'), 'number_of_trades': None, 'volume': 823, 'volume_weighted_average': None, 'time': datetime.datetime(2024, 11, 6, 0, 35, tzinfo=<UTC>)}\n",
      "{'open_price': Decimal('222.4900'), 'close_price': Decimal('222.9800'), 'high_price': Decimal('223.2000'), 'low_price': Decimal('222.4600'), 'number_of_trades': None, 'volume': 2730, 'volume_weighted_average': None, 'time': datetime.datetime(2024, 11, 6, 0, 34, tzinfo=<UTC>)}\n",
      "{'open_price': Decimal('222.4900'), 'close_price': Decimal('222.4900'), 'high_price': Decimal('222.4900'), 'low_price': Decimal('222.4300'), 'number_of_trades': None, 'volume': 145, 'volume_weighted_average': None, 'time': datetime.datetime(2024, 11, 6, 0, 33, tzinfo=<UTC>)}\n",
      "{'open_price': Decimal('222.4052'), 'close_price': Decimal('222.4900'), 'high_price': Decimal('222.5050'), 'low_price': Decimal('222.4000'), 'number_of_trades': None, 'volume': 348, 'volume_weighted_average': None, 'time': datetime.datetime(2024, 11, 6, 0, 32, tzinfo=<UTC>)}\n",
      "{'open_price': Decimal('222.2500'), 'close_price': Decimal('222.3800'), 'high_price': Decimal('222.6100'), 'low_price': Decimal('222.2300'), 'number_of_trades': None, 'volume': 1134, 'volume_weighted_average': None, 'time': datetime.datetime(2024, 11, 6, 0, 31, tzinfo=<UTC>)}\n",
      "{'open_price': Decimal('222.3500'), 'close_price': Decimal('222.6100'), 'high_price': Decimal('222.6100'), 'low_price': Decimal('222.2400'), 'number_of_trades': None, 'volume': 3562, 'volume_weighted_average': None, 'time': datetime.datetime(2024, 11, 6, 0, 30, tzinfo=<UTC>)}\n",
      "{'open_price': Decimal('222.9000'), 'close_price': Decimal('222.4000'), 'high_price': Decimal('222.9000'), 'low_price': Decimal('222.3500'), 'number_of_trades': None, 'volume': 2305, 'volume_weighted_average': None, 'time': datetime.datetime(2024, 11, 6, 0, 29, tzinfo=<UTC>)}\n",
      "{'open_price': Decimal('222.6000'), 'close_price': Decimal('222.8900'), 'high_price': Decimal('222.9050'), 'low_price': Decimal('222.6000'), 'number_of_trades': None, 'volume': 4572, 'volume_weighted_average': None, 'time': datetime.datetime(2024, 11, 6, 0, 28, tzinfo=<UTC>)}\n",
      "{'open_price': Decimal('223.2300'), 'close_price': Decimal('222.8700'), 'high_price': Decimal('223.2300'), 'low_price': Decimal('222.6012'), 'number_of_trades': None, 'volume': 3040, 'volume_weighted_average': None, 'time': datetime.datetime(2024, 11, 6, 0, 27, tzinfo=<UTC>)}\n",
      "{'open_price': Decimal('222.9000'), 'close_price': Decimal('223.0400'), 'high_price': Decimal('223.2700'), 'low_price': Decimal('222.6200'), 'number_of_trades': None, 'volume': 2924, 'volume_weighted_average': None, 'time': datetime.datetime(2024, 11, 6, 0, 26, tzinfo=<UTC>)}\n",
      "{'open_price': Decimal('222.9000'), 'close_price': Decimal('222.6100'), 'high_price': Decimal('222.9400'), 'low_price': Decimal('222.6100'), 'number_of_trades': None, 'volume': 555, 'volume_weighted_average': None, 'time': datetime.datetime(2024, 11, 6, 0, 25, tzinfo=<UTC>)}\n",
      "{'open_price': Decimal('223.0800'), 'close_price': Decimal('222.9000'), 'high_price': Decimal('223.2600'), 'low_price': Decimal('222.9000'), 'number_of_trades': None, 'volume': 1327, 'volume_weighted_average': None, 'time': datetime.datetime(2024, 11, 6, 0, 24, tzinfo=<UTC>)}\n",
      "{'open_price': Decimal('222.9500'), 'close_price': Decimal('222.9333'), 'high_price': Decimal('223.2500'), 'low_price': Decimal('222.9100'), 'number_of_trades': None, 'volume': 1129, 'volume_weighted_average': None, 'time': datetime.datetime(2024, 11, 6, 0, 23, tzinfo=<UTC>)}\n",
      "{'open_price': Decimal('222.9450'), 'close_price': Decimal('222.9700'), 'high_price': Decimal('222.9900'), 'low_price': Decimal('222.9450'), 'number_of_trades': None, 'volume': 365, 'volume_weighted_average': None, 'time': datetime.datetime(2024, 11, 6, 0, 22, tzinfo=<UTC>)}\n",
      "{'open_price': Decimal('222.9450'), 'close_price': Decimal('222.9501'), 'high_price': Decimal('222.9900'), 'low_price': Decimal('222.9000'), 'number_of_trades': None, 'volume': 373, 'volume_weighted_average': None, 'time': datetime.datetime(2024, 11, 6, 0, 21, tzinfo=<UTC>)}\n",
      "{'open_price': Decimal('222.9600'), 'close_price': Decimal('222.9450'), 'high_price': Decimal('222.9900'), 'low_price': Decimal('222.9450'), 'number_of_trades': None, 'volume': 151, 'volume_weighted_average': None, 'time': datetime.datetime(2024, 11, 6, 0, 20, tzinfo=<UTC>)}\n",
      "{'open_price': Decimal('222.9050'), 'close_price': Decimal('222.9450'), 'high_price': Decimal('222.9888'), 'low_price': Decimal('222.9022'), 'number_of_trades': None, 'volume': 127, 'volume_weighted_average': None, 'time': datetime.datetime(2024, 11, 6, 0, 19, tzinfo=<UTC>)}\n",
      "{'open_price': Decimal('222.8100'), 'close_price': Decimal('222.9050'), 'high_price': Decimal('222.9500'), 'low_price': Decimal('222.7200'), 'number_of_trades': None, 'volume': 744, 'volume_weighted_average': None, 'time': datetime.datetime(2024, 11, 6, 0, 18, tzinfo=<UTC>)}\n",
      "{'open_price': Decimal('222.8750'), 'close_price': Decimal('222.8800'), 'high_price': Decimal('222.9400'), 'low_price': Decimal('222.8100'), 'number_of_trades': None, 'volume': 243, 'volume_weighted_average': None, 'time': datetime.datetime(2024, 11, 6, 0, 17, tzinfo=<UTC>)}\n",
      "{'open_price': Decimal('222.6750'), 'close_price': Decimal('222.8100'), 'high_price': Decimal('222.9300'), 'low_price': Decimal('222.6000'), 'number_of_trades': None, 'volume': 336, 'volume_weighted_average': None, 'time': datetime.datetime(2024, 11, 6, 0, 16, tzinfo=<UTC>)}\n",
      "{'open_price': Decimal('222.8300'), 'close_price': Decimal('222.8900'), 'high_price': Decimal('222.9500'), 'low_price': Decimal('222.6400'), 'number_of_trades': None, 'volume': 1191, 'volume_weighted_average': None, 'time': datetime.datetime(2024, 11, 6, 0, 15, tzinfo=<UTC>)}\n",
      "{'open_price': Decimal('222.8100'), 'close_price': Decimal('222.9500'), 'high_price': Decimal('222.9500'), 'low_price': Decimal('222.7000'), 'number_of_trades': None, 'volume': 2113, 'volume_weighted_average': None, 'time': datetime.datetime(2024, 11, 6, 0, 14, tzinfo=<UTC>)}\n",
      "{'open_price': Decimal('222.8500'), 'close_price': Decimal('222.8100'), 'high_price': Decimal('222.9500'), 'low_price': Decimal('222.8100'), 'number_of_trades': None, 'volume': 155, 'volume_weighted_average': None, 'time': datetime.datetime(2024, 11, 6, 0, 13, tzinfo=<UTC>)}\n",
      "{'open_price': Decimal('222.9000'), 'close_price': Decimal('222.8100'), 'high_price': Decimal('222.9200'), 'low_price': Decimal('222.8100'), 'number_of_trades': None, 'volume': 431, 'volume_weighted_average': None, 'time': datetime.datetime(2024, 11, 6, 0, 12, tzinfo=<UTC>)}\n",
      "{'open_price': Decimal('222.9700'), 'close_price': Decimal('222.8500'), 'high_price': Decimal('222.9700'), 'low_price': Decimal('222.8500'), 'number_of_trades': None, 'volume': 50, 'volume_weighted_average': None, 'time': datetime.datetime(2024, 11, 6, 0, 11, tzinfo=<UTC>)}\n",
      "{'open_price': Decimal('222.8950'), 'close_price': Decimal('222.8176'), 'high_price': Decimal('222.9800'), 'low_price': Decimal('222.8100'), 'number_of_trades': None, 'volume': 404, 'volume_weighted_average': None, 'time': datetime.datetime(2024, 11, 6, 0, 10, tzinfo=<UTC>)}\n",
      "{'open_price': Decimal('222.9700'), 'close_price': Decimal('222.8900'), 'high_price': Decimal('222.9800'), 'low_price': Decimal('222.8100'), 'number_of_trades': None, 'volume': 1828, 'volume_weighted_average': None, 'time': datetime.datetime(2024, 11, 6, 0, 9, tzinfo=<UTC>)}\n",
      "{'open_price': Decimal('222.9700'), 'close_price': Decimal('222.9600'), 'high_price': Decimal('222.9800'), 'low_price': Decimal('222.9600'), 'number_of_trades': None, 'volume': 409, 'volume_weighted_average': None, 'time': datetime.datetime(2024, 11, 6, 0, 8, tzinfo=<UTC>)}\n",
      "{'open_price': Decimal('222.9800'), 'close_price': Decimal('222.9600'), 'high_price': Decimal('222.9800'), 'low_price': Decimal('222.9600'), 'number_of_trades': None, 'volume': 221, 'volume_weighted_average': None, 'time': datetime.datetime(2024, 11, 6, 0, 7, tzinfo=<UTC>)}\n",
      "{'open_price': Decimal('222.9800'), 'close_price': Decimal('222.9800'), 'high_price': Decimal('222.9800'), 'low_price': Decimal('222.9600'), 'number_of_trades': None, 'volume': 66, 'volume_weighted_average': None, 'time': datetime.datetime(2024, 11, 6, 0, 6, tzinfo=<UTC>)}\n",
      "{'open_price': Decimal('222.9700'), 'close_price': Decimal('222.9600'), 'high_price': Decimal('222.9800'), 'low_price': Decimal('222.9600'), 'number_of_trades': None, 'volume': 464, 'volume_weighted_average': None, 'time': datetime.datetime(2024, 11, 6, 0, 5, tzinfo=<UTC>)}\n",
      "{'open_price': Decimal('222.9800'), 'close_price': Decimal('222.9700'), 'high_price': Decimal('222.9800'), 'low_price': Decimal('222.9600'), 'number_of_trades': None, 'volume': 316, 'volume_weighted_average': None, 'time': datetime.datetime(2024, 11, 6, 0, 4, tzinfo=<UTC>)}\n",
      "{'open_price': Decimal('222.9800'), 'close_price': Decimal('222.9600'), 'high_price': Decimal('222.9800'), 'low_price': Decimal('222.9600'), 'number_of_trades': None, 'volume': 82, 'volume_weighted_average': None, 'time': datetime.datetime(2024, 11, 6, 0, 3, tzinfo=<UTC>)}\n",
      "{'open_price': Decimal('222.9800'), 'close_price': Decimal('222.9700'), 'high_price': Decimal('222.9800'), 'low_price': Decimal('222.9600'), 'number_of_trades': None, 'volume': 38, 'volume_weighted_average': None, 'time': datetime.datetime(2024, 11, 6, 0, 2, tzinfo=<UTC>)}\n",
      "{'open_price': Decimal('222.9600'), 'close_price': Decimal('222.9700'), 'high_price': Decimal('222.9750'), 'low_price': Decimal('222.9600'), 'number_of_trades': None, 'volume': 80, 'volume_weighted_average': None, 'time': datetime.datetime(2024, 11, 6, 0, 1, tzinfo=<UTC>)}\n",
      "{'open_price': Decimal('222.9800'), 'close_price': Decimal('223.0000'), 'high_price': Decimal('223.0000'), 'low_price': Decimal('222.9600'), 'number_of_trades': None, 'volume': 192, 'volume_weighted_average': None, 'time': datetime.datetime(2024, 11, 6, 0, 0, tzinfo=<UTC>)}\n",
      "{'open_price': Decimal('222.9800'), 'close_price': Decimal('222.9700'), 'high_price': Decimal('223.0000'), 'low_price': Decimal('222.9600'), 'number_of_trades': None, 'volume': 229, 'volume_weighted_average': None, 'time': datetime.datetime(2024, 11, 5, 23, 59, tzinfo=<UTC>)}\n",
      "{'open_price': Decimal('223.0000'), 'close_price': Decimal('222.9800'), 'high_price': Decimal('223.0000'), 'low_price': Decimal('222.9800'), 'number_of_trades': None, 'volume': 19, 'volume_weighted_average': None, 'time': datetime.datetime(2024, 11, 5, 23, 58, tzinfo=<UTC>)}\n",
      "{'open_price': Decimal('222.9900'), 'close_price': Decimal('222.9900'), 'high_price': Decimal('223.0000'), 'low_price': Decimal('222.9900'), 'number_of_trades': None, 'volume': 113, 'volume_weighted_average': None, 'time': datetime.datetime(2024, 11, 5, 23, 57, tzinfo=<UTC>)}\n",
      "{'open_price': Decimal('222.9800'), 'close_price': Decimal('222.9800'), 'high_price': Decimal('223.0000'), 'low_price': Decimal('222.9600'), 'number_of_trades': None, 'volume': 226, 'volume_weighted_average': None, 'time': datetime.datetime(2024, 11, 5, 23, 56, tzinfo=<UTC>)}\n",
      "{'open_price': Decimal('222.9600'), 'close_price': Decimal('223.0000'), 'high_price': Decimal('223.0000'), 'low_price': Decimal('222.9600'), 'number_of_trades': None, 'volume': 18, 'volume_weighted_average': None, 'time': datetime.datetime(2024, 11, 5, 23, 55, tzinfo=<UTC>)}\n",
      "{'open_price': Decimal('223.0400'), 'close_price': Decimal('222.9600'), 'high_price': Decimal('223.0400'), 'low_price': Decimal('222.9600'), 'number_of_trades': None, 'volume': 2249, 'volume_weighted_average': None, 'time': datetime.datetime(2024, 11, 5, 23, 54, tzinfo=<UTC>)}\n",
      "{'open_price': Decimal('223.0900'), 'close_price': Decimal('223.0877'), 'high_price': Decimal('223.0900'), 'low_price': Decimal('223.0000'), 'number_of_trades': None, 'volume': 47, 'volume_weighted_average': None, 'time': datetime.datetime(2024, 11, 5, 23, 53, tzinfo=<UTC>)}\n",
      "{'open_price': Decimal('223.0500'), 'close_price': Decimal('223.0700'), 'high_price': Decimal('223.0700'), 'low_price': Decimal('223.0000'), 'number_of_trades': None, 'volume': 128, 'volume_weighted_average': None, 'time': datetime.datetime(2024, 11, 5, 23, 52, tzinfo=<UTC>)}\n",
      "{'open_price': Decimal('223.0900'), 'close_price': Decimal('223.0500'), 'high_price': Decimal('223.0900'), 'low_price': Decimal('223.0500'), 'number_of_trades': None, 'volume': 13, 'volume_weighted_average': None, 'time': datetime.datetime(2024, 11, 5, 23, 51, tzinfo=<UTC>)}\n",
      "{'open_price': Decimal('223.0450'), 'close_price': Decimal('223.0450'), 'high_price': Decimal('223.0900'), 'low_price': Decimal('223.0400'), 'number_of_trades': None, 'volume': 9, 'volume_weighted_average': None, 'time': datetime.datetime(2024, 11, 5, 23, 50, tzinfo=<UTC>)}\n",
      "{'open_price': Decimal('223.0450'), 'close_price': Decimal('223.0450'), 'high_price': Decimal('223.0900'), 'low_price': Decimal('223.0400'), 'number_of_trades': None, 'volume': 11, 'volume_weighted_average': None, 'time': datetime.datetime(2024, 11, 5, 23, 49, tzinfo=<UTC>)}\n",
      "{'open_price': Decimal('223.0400'), 'close_price': Decimal('223.0450'), 'high_price': Decimal('223.0500'), 'low_price': Decimal('223.0001'), 'number_of_trades': None, 'volume': 13, 'volume_weighted_average': None, 'time': datetime.datetime(2024, 11, 5, 23, 48, tzinfo=<UTC>)}\n",
      "{'open_price': Decimal('223.0900'), 'close_price': Decimal('223.0400'), 'high_price': Decimal('223.0900'), 'low_price': Decimal('223.0000'), 'number_of_trades': None, 'volume': 10, 'volume_weighted_average': None, 'time': datetime.datetime(2024, 11, 5, 23, 47, tzinfo=<UTC>)}\n",
      "{'open_price': Decimal('223.0600'), 'close_price': Decimal('223.0400'), 'high_price': Decimal('223.0700'), 'low_price': Decimal('223.0000'), 'number_of_trades': None, 'volume': 65, 'volume_weighted_average': None, 'time': datetime.datetime(2024, 11, 5, 23, 46, tzinfo=<UTC>)}\n",
      "{'open_price': Decimal('223.0650'), 'close_price': Decimal('223.0400'), 'high_price': Decimal('223.0650'), 'low_price': Decimal('223.0400'), 'number_of_trades': None, 'volume': 68, 'volume_weighted_average': None, 'time': datetime.datetime(2024, 11, 5, 23, 45, tzinfo=<UTC>)}\n",
      "{'open_price': Decimal('223.1000'), 'close_price': Decimal('223.0650'), 'high_price': Decimal('223.1000'), 'low_price': Decimal('223.0600'), 'number_of_trades': None, 'volume': 12, 'volume_weighted_average': None, 'time': datetime.datetime(2024, 11, 5, 23, 44, tzinfo=<UTC>)}\n",
      "{'open_price': Decimal('223.0700'), 'close_price': Decimal('223.0700'), 'high_price': Decimal('223.0867'), 'low_price': Decimal('223.0400'), 'number_of_trades': None, 'volume': 110, 'volume_weighted_average': None, 'time': datetime.datetime(2024, 11, 5, 23, 43, tzinfo=<UTC>)}\n",
      "{'open_price': Decimal('223.0415'), 'close_price': Decimal('223.0415'), 'high_price': Decimal('223.0700'), 'low_price': Decimal('223.0415'), 'number_of_trades': None, 'volume': 247, 'volume_weighted_average': None, 'time': datetime.datetime(2024, 11, 5, 23, 42, tzinfo=<UTC>)}\n",
      "{'open_price': Decimal('223.0600'), 'close_price': Decimal('223.0550'), 'high_price': Decimal('223.0700'), 'low_price': Decimal('223.0400'), 'number_of_trades': None, 'volume': 326, 'volume_weighted_average': None, 'time': datetime.datetime(2024, 11, 5, 23, 41, tzinfo=<UTC>)}\n",
      "{'open_price': Decimal('223.0998'), 'close_price': Decimal('223.1000'), 'high_price': Decimal('223.1000'), 'low_price': Decimal('223.0400'), 'number_of_trades': None, 'volume': 19, 'volume_weighted_average': None, 'time': datetime.datetime(2024, 11, 5, 23, 40, tzinfo=<UTC>)}\n",
      "{'open_price': Decimal('223.0800'), 'close_price': Decimal('223.0400'), 'high_price': Decimal('223.0800'), 'low_price': Decimal('223.0400'), 'number_of_trades': None, 'volume': 67, 'volume_weighted_average': None, 'time': datetime.datetime(2024, 11, 5, 23, 39, tzinfo=<UTC>)}\n",
      "{'open_price': Decimal('223.0800'), 'close_price': Decimal('223.1200'), 'high_price': Decimal('223.1200'), 'low_price': Decimal('223.0400'), 'number_of_trades': None, 'volume': 132, 'volume_weighted_average': None, 'time': datetime.datetime(2024, 11, 5, 23, 38, tzinfo=<UTC>)}\n",
      "{'open_price': Decimal('223.0800'), 'close_price': Decimal('223.0400'), 'high_price': Decimal('223.1200'), 'low_price': Decimal('223.0400'), 'number_of_trades': None, 'volume': 712, 'volume_weighted_average': None, 'time': datetime.datetime(2024, 11, 5, 23, 37, tzinfo=<UTC>)}\n",
      "{'open_price': Decimal('223.0800'), 'close_price': Decimal('223.0800'), 'high_price': Decimal('223.1200'), 'low_price': Decimal('223.0800'), 'number_of_trades': None, 'volume': 66, 'volume_weighted_average': None, 'time': datetime.datetime(2024, 11, 5, 23, 36, tzinfo=<UTC>)}\n",
      "{'open_price': Decimal('223.1200'), 'close_price': Decimal('223.0500'), 'high_price': Decimal('223.1200'), 'low_price': Decimal('223.0400'), 'number_of_trades': None, 'volume': 221, 'volume_weighted_average': None, 'time': datetime.datetime(2024, 11, 5, 23, 35, tzinfo=<UTC>)}\n",
      "{'open_price': Decimal('223.0800'), 'close_price': Decimal('223.0420'), 'high_price': Decimal('223.0902'), 'low_price': Decimal('223.0400'), 'number_of_trades': None, 'volume': 168, 'volume_weighted_average': None, 'time': datetime.datetime(2024, 11, 5, 23, 34, tzinfo=<UTC>)}\n",
      "{'open_price': Decimal('223.1200'), 'close_price': Decimal('223.1200'), 'high_price': Decimal('223.1200'), 'low_price': Decimal('223.0400'), 'number_of_trades': None, 'volume': 3711, 'volume_weighted_average': None, 'time': datetime.datetime(2024, 11, 5, 23, 33, tzinfo=<UTC>)}\n",
      "{'open_price': Decimal('223.0800'), 'close_price': Decimal('223.0800'), 'high_price': Decimal('223.1200'), 'low_price': Decimal('223.0400'), 'number_of_trades': None, 'volume': 59, 'volume_weighted_average': None, 'time': datetime.datetime(2024, 11, 5, 23, 32, tzinfo=<UTC>)}\n",
      "{'open_price': Decimal('223.0400'), 'close_price': Decimal('223.0500'), 'high_price': Decimal('223.1200'), 'low_price': Decimal('223.0400'), 'number_of_trades': None, 'volume': 283, 'volume_weighted_average': None, 'time': datetime.datetime(2024, 11, 5, 23, 31, tzinfo=<UTC>)}\n",
      "{'open_price': Decimal('223.0300'), 'close_price': Decimal('223.0800'), 'high_price': Decimal('223.0800'), 'low_price': Decimal('223.0300'), 'number_of_trades': None, 'volume': 701, 'volume_weighted_average': None, 'time': datetime.datetime(2024, 11, 5, 23, 30, tzinfo=<UTC>)}\n",
      "{'open_price': Decimal('223.0300'), 'close_price': Decimal('223.0300'), 'high_price': Decimal('223.0400'), 'low_price': Decimal('223.0300'), 'number_of_trades': None, 'volume': 160, 'volume_weighted_average': None, 'time': datetime.datetime(2024, 11, 5, 23, 29, tzinfo=<UTC>)}\n",
      "{'open_price': Decimal('223.0250'), 'close_price': Decimal('223.0300'), 'high_price': Decimal('223.0300'), 'low_price': Decimal('223.0000'), 'number_of_trades': None, 'volume': 333, 'volume_weighted_average': None, 'time': datetime.datetime(2024, 11, 5, 23, 28, tzinfo=<UTC>)}\n",
      "{'open_price': Decimal('223.0300'), 'close_price': Decimal('223.0400'), 'high_price': Decimal('223.0400'), 'low_price': Decimal('223.0100'), 'number_of_trades': None, 'volume': 209, 'volume_weighted_average': None, 'time': datetime.datetime(2024, 11, 5, 23, 27, tzinfo=<UTC>)}\n",
      "{'open_price': Decimal('223.0400'), 'close_price': Decimal('223.0500'), 'high_price': Decimal('223.0500'), 'low_price': Decimal('223.0300'), 'number_of_trades': None, 'volume': 105, 'volume_weighted_average': None, 'time': datetime.datetime(2024, 11, 5, 23, 26, tzinfo=<UTC>)}\n",
      "{'open_price': Decimal('223.0600'), 'close_price': Decimal('223.0600'), 'high_price': Decimal('223.0700'), 'low_price': Decimal('223.0100'), 'number_of_trades': None, 'volume': 215, 'volume_weighted_average': None, 'time': datetime.datetime(2024, 11, 5, 23, 25, tzinfo=<UTC>)}\n",
      "{'open_price': Decimal('223.0000'), 'close_price': Decimal('223.0700'), 'high_price': Decimal('223.0800'), 'low_price': Decimal('222.9200'), 'number_of_trades': None, 'volume': 84, 'volume_weighted_average': None, 'time': datetime.datetime(2024, 11, 5, 23, 24, tzinfo=<UTC>)}\n",
      "{'open_price': Decimal('223.0300'), 'close_price': Decimal('223.0400'), 'high_price': Decimal('223.0800'), 'low_price': Decimal('222.9200'), 'number_of_trades': None, 'volume': 189, 'volume_weighted_average': None, 'time': datetime.datetime(2024, 11, 5, 23, 23, tzinfo=<UTC>)}\n",
      "{'open_price': Decimal('223.0800'), 'close_price': Decimal('223.0800'), 'high_price': Decimal('223.0800'), 'low_price': Decimal('222.9200'), 'number_of_trades': None, 'volume': 250, 'volume_weighted_average': None, 'time': datetime.datetime(2024, 11, 5, 23, 22, tzinfo=<UTC>)}\n",
      "{'open_price': Decimal('223.0300'), 'close_price': Decimal('223.0000'), 'high_price': Decimal('223.1200'), 'low_price': Decimal('222.9200'), 'number_of_trades': None, 'volume': 73, 'volume_weighted_average': None, 'time': datetime.datetime(2024, 11, 5, 23, 21, tzinfo=<UTC>)}\n",
      "{'open_price': Decimal('223.0200'), 'close_price': Decimal('223.0200'), 'high_price': Decimal('223.0900'), 'low_price': Decimal('223.0200'), 'number_of_trades': None, 'volume': 63, 'volume_weighted_average': None, 'time': datetime.datetime(2024, 11, 5, 23, 20, tzinfo=<UTC>)}\n"
     ]
    }
   ],
   "source": [
    "for timestamp_str in results.keys():\n",
    "    new_data = transform_alpha_vantage_result(timestamp_str, results.get(timestamp_str))\n",
    "    print(new_data)"
   ]
  },
  {
   "cell_type": "code",
   "execution_count": null,
   "id": "8e90ef53-f4d3-4f5c-a6bd-578670009a88",
   "metadata": {},
   "outputs": [],
   "source": []
  }
 ],
 "metadata": {
  "kernelspec": {
   "display_name": "Python 3 (ipykernel)",
   "language": "python",
   "name": "python3"
  },
  "language_info": {
   "codemirror_mode": {
    "name": "ipython",
    "version": 3
   },
   "file_extension": ".py",
   "mimetype": "text/x-python",
   "name": "python",
   "nbconvert_exporter": "python",
   "pygments_lexer": "ipython3",
   "version": "3.12.3"
  }
 },
 "nbformat": 4,
 "nbformat_minor": 5
}
