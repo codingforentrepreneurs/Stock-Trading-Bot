{
 "cells": [
  {
   "cell_type": "code",
   "execution_count": 1,
   "id": "e85ed483-d2ef-4920-a1b5-51dd0eddf4a6",
   "metadata": {},
   "outputs": [],
   "source": [
    "import setup\n",
    "setup.init_django()"
   ]
  },
  {
   "cell_type": "code",
   "execution_count": 2,
   "id": "9b9ca555-32fb-4f46-a606-48e409b235f7",
   "metadata": {},
   "outputs": [],
   "source": [
    "from market.models import StockQuote"
   ]
  },
  {
   "cell_type": "code",
   "execution_count": 3,
   "id": "31ffb14d-43f3-4bbb-813b-50526ff9bfd6",
   "metadata": {},
   "outputs": [],
   "source": [
    "from django.db.models import Avg, F, RowRange, Window, Max\n",
    "from django.db.models.functions import TruncDate\n",
    "from django.utils import timezone\n",
    "from datetime import timedelta\n",
    "from decimal import Decimal"
   ]
  },
  {
   "cell_type": "code",
   "execution_count": 4,
   "id": "cee627e2-6fe5-4b27-9027-8e07ffbe24b8",
   "metadata": {},
   "outputs": [
    {
     "data": {
      "text/plain": [
       "19214"
      ]
     },
     "execution_count": 4,
     "metadata": {},
     "output_type": "execute_result"
    }
   ],
   "source": [
    "days_ago = 30\n",
    "now = timezone.now()\n",
    "start_date = now - timedelta(days=30)\n",
    "end_date = now\n",
    "\n",
    "qs = StockQuote.objects.filter(time__range=(start_date, end_date))\n",
    "qs.count()"
   ]
  },
  {
   "cell_type": "code",
   "execution_count": 5,
   "id": "0415473f-c008-4f14-a37e-ca6f264313d6",
   "metadata": {},
   "outputs": [],
   "source": [
    "total = 0\n",
    "for obj in qs:\n",
    "    total += obj.close_price"
   ]
  },
  {
   "cell_type": "code",
   "execution_count": 6,
   "id": "41e0ac06-3e07-42ac-b781-f154ce9d3ca7",
   "metadata": {},
   "outputs": [
    {
     "data": {
      "text/plain": [
       "Decimal('301.3717889143332986364109503')"
      ]
     },
     "execution_count": 6,
     "metadata": {},
     "output_type": "execute_result"
    }
   ],
   "source": [
    "total / qs.count()"
   ]
  },
  {
   "cell_type": "code",
   "execution_count": 7,
   "id": "50cbcb1c-a9c6-45c3-b8f2-177f19d7e995",
   "metadata": {},
   "outputs": [
    {
     "data": {
      "text/plain": [
       "<QuerySet [{'company': 3, 'avg_price': Decimal('578.0424125591757171')}, {'company': 2, 'avg_price': Decimal('172.2664964696223317')}, {'company': 7, 'avg_price': Decimal('420.9168394362416107')}, {'company': 1, 'avg_price': Decimal('229.0419005203171457')}, {'company': 8, 'avg_price': Decimal('140.9261248098859316')}]>"
      ]
     },
     "execution_count": 7,
     "metadata": {},
     "output_type": "execute_result"
    }
   ],
   "source": [
    "qs.values('company').annotate(avg_price=Avg('close_price'))"
   ]
  },
  {
   "cell_type": "code",
   "execution_count": 8,
   "id": "a8f1344a-5eb7-4eab-b785-2814f24acf48",
   "metadata": {},
   "outputs": [],
   "source": [
    "count = 5\n",
    "ticker = \"AAPL\"\n",
    "rolling_qs = list(qs.filter(company__ticker=ticker).order_by('-time')[:count])\n",
    "rolling_qs.reverse()"
   ]
  },
  {
   "cell_type": "code",
   "execution_count": 9,
   "id": "2daeab04-616c-4923-b866-3d2900a17997",
   "metadata": {},
   "outputs": [
    {
     "data": {
      "text/plain": [
       "[<StockQuote: StockQuote object (8621061)>,\n",
       " <StockQuote: StockQuote object (8621062)>,\n",
       " <StockQuote: StockQuote object (8621063)>,\n",
       " <StockQuote: StockQuote object (8621064)>,\n",
       " <StockQuote: StockQuote object (8621065)>]"
      ]
     },
     "execution_count": 9,
     "metadata": {},
     "output_type": "execute_result"
    }
   ],
   "source": [
    "rolling_qs"
   ]
  },
  {
   "cell_type": "code",
   "execution_count": 10,
   "id": "25e4ee18-7b1f-4a7c-b8e5-6e1c7586ce62",
   "metadata": {},
   "outputs": [
    {
     "name": "stdout",
     "output_type": "stream",
     "text": [
      "1 8621061 225.1500 225.1500\n",
      "2 8621062 225.0200 225.0850\n",
      "3 8621063 224.9800 225.0500\n",
      "4 8621064 225.0000 225.0375\n",
      "5 8621065 225.0000 225.0300\n"
     ]
    }
   ],
   "source": [
    "total = 0\n",
    "for i, obj in enumerate(rolling_qs):\n",
    "    total += obj.close_price\n",
    "    avg = total / (i + 1)\n",
    "    print(i + 1, obj.id, obj.close_price, avg)"
   ]
  },
  {
   "cell_type": "code",
   "execution_count": 33,
   "id": "d93c0176-d3fa-4db6-b47d-ced32a6d2507",
   "metadata": {},
   "outputs": [],
   "source": [
    "lastest_daily_timestamps = (\n",
    "    StockQuote.objects.filter(company__ticker=ticker, time__range=(start_date - timedelta(days=40), end_date))\n",
    "    .annotate(date=TruncDate('time'))\n",
    "    .values('company', 'date')\n",
    "    .annotate(latest_time=Max('time'))\n",
    "    .values('company', 'date', 'latest_time')\n",
    "    .order_by('date')\n",
    ")\n",
    "\n",
    "acutal_timestamps = [x['latest_time'] for x in lastest_daily_timestamps]"
   ]
  },
  {
   "cell_type": "code",
   "execution_count": 34,
   "id": "5a64b03f-7724-4253-a412-95a98ac1ff35",
   "metadata": {},
   "outputs": [],
   "source": [
    "qs = StockQuote.objects.filter(\n",
    "    company__ticker=ticker, \n",
    "    time__range=(start_date, end_date),\n",
    "    time__in=acutal_timestamps\n",
    ")"
   ]
  },
  {
   "cell_type": "code",
   "execution_count": 35,
   "id": "1586782f-2759-49eb-ae74-6611c1626813",
   "metadata": {},
   "outputs": [],
   "source": [
    "frame_start = -(count - 1)\n",
    "ma_val = qs.annotate(\n",
    "        ma=Window(\n",
    "            expression=Avg('close_price'),\n",
    "            order_by=F('time').asc(),\n",
    "            partition_by=[],\n",
    "            frame=RowRange(start=frame_start, end=0),\n",
    "        )\n",
    ").order_by('-time')"
   ]
  },
  {
   "cell_type": "code",
   "execution_count": 36,
   "id": "76e23c23-e0ec-4d1a-b5e4-0fe89d09643a",
   "metadata": {},
   "outputs": [
    {
     "name": "stdout",
     "output_type": "stream",
     "text": [
      "8621065 225.0000 225.4460000000000000 2024-11-13 23:25:00+00:00\n",
      "6476367 224.2000 225.9420200000000000 2024-11-12 23:50:00+00:00\n",
      "6476181 224.1100 225.6320200000000000 2024-11-11 23:55:00+00:00\n",
      "6503221 226.9600 225.4020200000000000 2024-11-09 00:55:00+00:00\n",
      "6503204 226.9600 224.3500200000000000 2024-11-08 23:55:00+00:00\n"
     ]
    }
   ],
   "source": [
    "for obj in ma_val[:5]:\n",
    "    print(obj.id, obj.close_price, obj.ma, obj.time)"
   ]
  },
  {
   "cell_type": "code",
   "execution_count": 37,
   "id": "2cce51aa-361e-47d2-9fbf-45dad2617707",
   "metadata": {},
   "outputs": [
    {
     "data": {
      "text/plain": [
       "(8621065,\n",
       " Decimal('225.0000'),\n",
       " Decimal('225.4460000000000000'),\n",
       " Decimal('228.0193950000000000'))"
      ]
     },
     "execution_count": 37,
     "metadata": {},
     "output_type": "execute_result"
    }
   ],
   "source": [
    "frame_start = -(count - 1)\n",
    "ma_vals = qs.annotate(\n",
    "        ma_5=Window(\n",
    "            expression=Avg('close_price'),\n",
    "            order_by=F('time').asc(),\n",
    "            partition_by=[],\n",
    "            frame=RowRange(start=-4, end=0),\n",
    "        ),\n",
    "        ma_20=Window(\n",
    "            expression=Avg('close_price'),\n",
    "            order_by=F('time').asc(),\n",
    "            partition_by=[],\n",
    "            frame=RowRange(start=-19, end=0),\n",
    "        )\n",
    ").order_by('-time').first()\n",
    "\n",
    "ma_vals.id, ma_vals.close_price, ma_vals.ma_5, ma_vals.ma_20"
   ]
  },
  {
   "cell_type": "code",
   "execution_count": null,
   "id": "9ee11312-df57-4bd1-bee6-1d4e2a94d00d",
   "metadata": {},
   "outputs": [],
   "source": []
  },
  {
   "cell_type": "code",
   "execution_count": null,
   "id": "b2f959d6-8687-4f08-8789-01a93104704e",
   "metadata": {},
   "outputs": [],
   "source": []
  }
 ],
 "metadata": {
  "kernelspec": {
   "display_name": "Python 3 (ipykernel)",
   "language": "python",
   "name": "python3"
  },
  "language_info": {
   "codemirror_mode": {
    "name": "ipython",
    "version": 3
   },
   "file_extension": ".py",
   "mimetype": "text/x-python",
   "name": "python",
   "nbconvert_exporter": "python",
   "pygments_lexer": "ipython3",
   "version": "3.12.3"
  }
 },
 "nbformat": 4,
 "nbformat_minor": 5
}
