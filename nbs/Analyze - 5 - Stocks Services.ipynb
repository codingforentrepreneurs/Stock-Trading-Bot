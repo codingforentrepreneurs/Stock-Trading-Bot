{
 "cells": [
  {
   "cell_type": "code",
   "execution_count": 1,
   "id": "e85ed483-d2ef-4920-a1b5-51dd0eddf4a6",
   "metadata": {},
   "outputs": [],
   "source": [
    "import setup\n",
    "setup.init_django()"
   ]
  },
  {
   "cell_type": "code",
   "execution_count": 2,
   "id": "9b9ca555-32fb-4f46-a606-48e409b235f7",
   "metadata": {},
   "outputs": [],
   "source": [
    "from market import services as market_services"
   ]
  },
  {
   "cell_type": "code",
   "execution_count": 3,
   "id": "b0d27cf2-6c7c-4dfa-9425-6da85d9a0e32",
   "metadata": {},
   "outputs": [
    {
     "ename": "ValueError",
     "evalue": "The annotation 'volume' conflicts with a field on the model.",
     "output_type": "error",
     "traceback": [
      "\u001b[0;31m---------------------------------------------------------------------------\u001b[0m",
      "\u001b[0;31mValueError\u001b[0m                                Traceback (most recent call last)",
      "Cell \u001b[0;32mIn[3], line 6\u001b[0m\n\u001b[1;32m      4\u001b[0m averages \u001b[38;5;241m=\u001b[39m market_services\u001b[38;5;241m.\u001b[39mget_daily_moving_averages(ticker, days\u001b[38;5;241m=\u001b[39mdays, queryset\u001b[38;5;241m=\u001b[39mqueryset)\n\u001b[1;32m      5\u001b[0m price_target \u001b[38;5;241m=\u001b[39m market_services\u001b[38;5;241m.\u001b[39mget_price_target(ticker, days\u001b[38;5;241m=\u001b[39mdays, queryset\u001b[38;5;241m=\u001b[39mqueryset)\n\u001b[0;32m----> 6\u001b[0m volume_trend \u001b[38;5;241m=\u001b[39m \u001b[43mmarket_services\u001b[49m\u001b[38;5;241;43m.\u001b[39;49m\u001b[43mget_volume_trend\u001b[49m\u001b[43m(\u001b[49m\u001b[43mticker\u001b[49m\u001b[43m,\u001b[49m\u001b[43m \u001b[49m\u001b[43mdays\u001b[49m\u001b[38;5;241;43m=\u001b[39;49m\u001b[43mdays\u001b[49m\u001b[43m,\u001b[49m\u001b[43m \u001b[49m\u001b[43mqueryset\u001b[49m\u001b[38;5;241;43m=\u001b[39;49m\u001b[43mqueryset\u001b[49m\u001b[43m)\u001b[49m\n\u001b[1;32m      7\u001b[0m rsi \u001b[38;5;241m=\u001b[39m market_services\u001b[38;5;241m.\u001b[39mcalculate_rsi(ticker, days\u001b[38;5;241m=\u001b[39mdays, queryset\u001b[38;5;241m=\u001b[39mqueryset)\n",
      "File \u001b[0;32m~/Dev/stock-trading-bot/src/market/services.py:123\u001b[0m, in \u001b[0;36mget_volume_trend\u001b[0;34m(ticker, days, queryset)\u001b[0m\n\u001b[1;32m    121\u001b[0m     queryset \u001b[38;5;241m=\u001b[39m get_daily_stock_quotes_queryset(ticker\u001b[38;5;241m=\u001b[39mticker, days\u001b[38;5;241m=\u001b[39mdays)\n\u001b[1;32m    122\u001b[0m start \u001b[38;5;241m=\u001b[39m \u001b[38;5;241m-\u001b[39m(days \u001b[38;5;241m-\u001b[39m \u001b[38;5;241m1\u001b[39m)\n\u001b[0;32m--> 123\u001b[0m data \u001b[38;5;241m=\u001b[39m \u001b[43mqueryset\u001b[49m\u001b[38;5;241;43m.\u001b[39;49m\u001b[43mannotate\u001b[49m\u001b[43m(\u001b[49m\n\u001b[1;32m    124\u001b[0m \u001b[43m    \u001b[49m\u001b[43mavg_volume\u001b[49m\u001b[38;5;241;43m=\u001b[39;49m\u001b[43mWindow\u001b[49m\u001b[43m(\u001b[49m\n\u001b[1;32m    125\u001b[0m \u001b[43m        \u001b[49m\u001b[43mexpression\u001b[49m\u001b[38;5;241;43m=\u001b[39;49m\u001b[43mAvg\u001b[49m\u001b[43m(\u001b[49m\u001b[38;5;124;43m'\u001b[39;49m\u001b[38;5;124;43mvolume\u001b[39;49m\u001b[38;5;124;43m'\u001b[39;49m\u001b[43m)\u001b[49m\u001b[43m,\u001b[49m\n\u001b[1;32m    126\u001b[0m \u001b[43m        \u001b[49m\u001b[43morder_by\u001b[49m\u001b[38;5;241;43m=\u001b[39;49m\u001b[43mF\u001b[49m\u001b[43m(\u001b[49m\u001b[38;5;124;43m'\u001b[39;49m\u001b[38;5;124;43mtime\u001b[39;49m\u001b[38;5;124;43m'\u001b[39;49m\u001b[43m)\u001b[49m\u001b[38;5;241;43m.\u001b[39;49m\u001b[43masc\u001b[49m\u001b[43m(\u001b[49m\u001b[43m)\u001b[49m\u001b[43m,\u001b[49m\n\u001b[1;32m    127\u001b[0m \u001b[43m        \u001b[49m\u001b[43mpartition_by\u001b[49m\u001b[38;5;241;43m=\u001b[39;49m\u001b[43m[\u001b[49m\u001b[43m]\u001b[49m\u001b[43m,\u001b[49m\n\u001b[1;32m    128\u001b[0m \u001b[43m        \u001b[49m\u001b[43mframe\u001b[49m\u001b[38;5;241;43m=\u001b[39;49m\u001b[43mRowRange\u001b[49m\u001b[43m(\u001b[49m\u001b[43mstart\u001b[49m\u001b[38;5;241;43m=\u001b[39;49m\u001b[43mstart\u001b[49m\u001b[43m,\u001b[49m\u001b[43m \u001b[49m\u001b[43mend\u001b[49m\u001b[38;5;241;43m=\u001b[39;49m\u001b[38;5;241;43m0\u001b[39;49m\u001b[43m)\u001b[49m\n\u001b[1;32m    129\u001b[0m \u001b[43m    \u001b[49m\u001b[43m)\u001b[49m\u001b[43m,\u001b[49m\n\u001b[1;32m    130\u001b[0m \u001b[43m    \u001b[49m\u001b[43mvolume\u001b[49m\u001b[43m \u001b[49m\u001b[38;5;241;43m=\u001b[39;49m\u001b[43m \u001b[49m\u001b[43mF\u001b[49m\u001b[43m(\u001b[49m\u001b[38;5;124;43m\"\u001b[39;49m\u001b[38;5;124;43mvolume\u001b[39;49m\u001b[38;5;124;43m\"\u001b[39;49m\u001b[43m)\u001b[49m\n\u001b[1;32m    131\u001b[0m \u001b[43m\u001b[49m\u001b[43m)\u001b[49m\u001b[38;5;241m.\u001b[39morder_by(\u001b[38;5;124m'\u001b[39m\u001b[38;5;124m-time\u001b[39m\u001b[38;5;124m'\u001b[39m)\u001b[38;5;241m.\u001b[39mfirst()\n\u001b[1;32m    133\u001b[0m \u001b[38;5;28;01mif\u001b[39;00m \u001b[38;5;129;01mnot\u001b[39;00m data:\n\u001b[1;32m    134\u001b[0m     \u001b[38;5;28;01mreturn\u001b[39;00m \u001b[38;5;28;01mNone\u001b[39;00m\n",
      "File \u001b[0;32m~/Dev/stock-trading-bot/venv/lib/python3.12/site-packages/django/db/models/query.py:1630\u001b[0m, in \u001b[0;36mQuerySet.annotate\u001b[0;34m(self, *args, **kwargs)\u001b[0m\n\u001b[1;32m   1625\u001b[0m \u001b[38;5;250m\u001b[39m\u001b[38;5;124;03m\"\"\"\u001b[39;00m\n\u001b[1;32m   1626\u001b[0m \u001b[38;5;124;03mReturn a query set in which the returned objects have been annotated\u001b[39;00m\n\u001b[1;32m   1627\u001b[0m \u001b[38;5;124;03mwith extra data or aggregations.\u001b[39;00m\n\u001b[1;32m   1628\u001b[0m \u001b[38;5;124;03m\"\"\"\u001b[39;00m\n\u001b[1;32m   1629\u001b[0m \u001b[38;5;28mself\u001b[39m\u001b[38;5;241m.\u001b[39m_not_support_combined_queries(\u001b[38;5;124m\"\u001b[39m\u001b[38;5;124mannotate\u001b[39m\u001b[38;5;124m\"\u001b[39m)\n\u001b[0;32m-> 1630\u001b[0m \u001b[38;5;28;01mreturn\u001b[39;00m \u001b[38;5;28;43mself\u001b[39;49m\u001b[38;5;241;43m.\u001b[39;49m\u001b[43m_annotate\u001b[49m\u001b[43m(\u001b[49m\u001b[43margs\u001b[49m\u001b[43m,\u001b[49m\u001b[43m \u001b[49m\u001b[43mkwargs\u001b[49m\u001b[43m,\u001b[49m\u001b[43m \u001b[49m\u001b[43mselect\u001b[49m\u001b[38;5;241;43m=\u001b[39;49m\u001b[38;5;28;43;01mTrue\u001b[39;49;00m\u001b[43m)\u001b[49m\n",
      "File \u001b[0;32m~/Dev/stock-trading-bot/venv/lib/python3.12/site-packages/django/db/models/query.py:1673\u001b[0m, in \u001b[0;36mQuerySet._annotate\u001b[0;34m(self, args, kwargs, select)\u001b[0m\n\u001b[1;32m   1671\u001b[0m \u001b[38;5;28;01mfor\u001b[39;00m alias, annotation \u001b[38;5;129;01min\u001b[39;00m annotations\u001b[38;5;241m.\u001b[39mitems():\n\u001b[1;32m   1672\u001b[0m     \u001b[38;5;28;01mif\u001b[39;00m alias \u001b[38;5;129;01min\u001b[39;00m names:\n\u001b[0;32m-> 1673\u001b[0m         \u001b[38;5;28;01mraise\u001b[39;00m \u001b[38;5;167;01mValueError\u001b[39;00m(\n\u001b[1;32m   1674\u001b[0m             \u001b[38;5;124m\"\u001b[39m\u001b[38;5;124mThe annotation \u001b[39m\u001b[38;5;124m'\u001b[39m\u001b[38;5;132;01m%s\u001b[39;00m\u001b[38;5;124m'\u001b[39m\u001b[38;5;124m conflicts with a field on \u001b[39m\u001b[38;5;124m\"\u001b[39m\n\u001b[1;32m   1675\u001b[0m             \u001b[38;5;124m\"\u001b[39m\u001b[38;5;124mthe model.\u001b[39m\u001b[38;5;124m\"\u001b[39m \u001b[38;5;241m%\u001b[39m alias\n\u001b[1;32m   1676\u001b[0m         )\n\u001b[1;32m   1677\u001b[0m     \u001b[38;5;28;01mif\u001b[39;00m \u001b[38;5;28misinstance\u001b[39m(annotation, FilteredRelation):\n\u001b[1;32m   1678\u001b[0m         clone\u001b[38;5;241m.\u001b[39mquery\u001b[38;5;241m.\u001b[39madd_filtered_relation(annotation, alias)\n",
      "\u001b[0;31mValueError\u001b[0m: The annotation 'volume' conflicts with a field on the model."
     ]
    }
   ],
   "source": [
    "ticker = \"AAPL\"\n",
    "days = 28\n",
    "queryset = market_services.get_daily_stock_quotes_queryset(ticker, days=days)\n",
    "averages = market_services.get_daily_moving_averages(ticker, days=days, queryset=queryset)\n",
    "price_target = market_services.get_price_target(ticker, days=days, queryset=queryset)\n",
    "volume_trend = market_services.get_volume_trend(ticker, days=days, queryset=queryset)\n",
    "bucket_qs = queryset.time_bucket('time', '1 day')\n",
    "rsi = market_services.calculate_rsi(ticker, days=days, queryset=queryset)"
   ]
  },
  {
   "cell_type": "code",
   "execution_count": null,
   "id": "83de4c5c-f2f6-401e-92d1-be8dd85e7871",
   "metadata": {},
   "outputs": [],
   "source": [
    "queryset.count()"
   ]
  },
  {
   "cell_type": "code",
   "execution_count": null,
   "id": "40d78422-aa5f-4361-807c-6fc1fba3e8ac",
   "metadata": {},
   "outputs": [],
   "source": [
    "averages"
   ]
  },
  {
   "cell_type": "code",
   "execution_count": null,
   "id": "ff90bdad-135e-4e84-a176-c1171a2ee84a",
   "metadata": {},
   "outputs": [],
   "source": [
    "price_target"
   ]
  },
  {
   "cell_type": "code",
   "execution_count": null,
   "id": "94a14e75-3517-4606-84ff-2cb270da55ce",
   "metadata": {},
   "outputs": [],
   "source": [
    "volume_trend"
   ]
  },
  {
   "cell_type": "code",
   "execution_count": null,
   "id": "b55ba173-759a-48de-82ea-336c9b40f99e",
   "metadata": {},
   "outputs": [],
   "source": [
    "rsi"
   ]
  },
  {
   "cell_type": "code",
   "execution_count": null,
   "id": "2950c286-0a81-4821-946a-c97af92e5d99",
   "metadata": {},
   "outputs": [],
   "source": []
  }
 ],
 "metadata": {
  "kernelspec": {
   "display_name": "Python 3 (ipykernel)",
   "language": "python",
   "name": "python3"
  },
  "language_info": {
   "codemirror_mode": {
    "name": "ipython",
    "version": 3
   },
   "file_extension": ".py",
   "mimetype": "text/x-python",
   "name": "python",
   "nbconvert_exporter": "python",
   "pygments_lexer": "ipython3",
   "version": "3.12.3"
  }
 },
 "nbformat": 4,
 "nbformat_minor": 5
}
