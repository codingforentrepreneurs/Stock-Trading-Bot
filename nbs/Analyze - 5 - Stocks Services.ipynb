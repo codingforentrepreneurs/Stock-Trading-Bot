{
 "cells": [
  {
   "cell_type": "code",
   "execution_count": 9,
   "id": "e85ed483-d2ef-4920-a1b5-51dd0eddf4a6",
   "metadata": {},
   "outputs": [],
   "source": [
    "import setup\n",
    "setup.init_django()"
   ]
  },
  {
   "cell_type": "code",
   "execution_count": 10,
   "id": "9b9ca555-32fb-4f46-a606-48e409b235f7",
   "metadata": {},
   "outputs": [],
   "source": [
    "from market import services as market_services"
   ]
  },
  {
   "cell_type": "code",
   "execution_count": 11,
   "id": "b0d27cf2-6c7c-4dfa-9425-6da85d9a0e32",
   "metadata": {},
   "outputs": [
    {
     "name": "stdout",
     "output_type": "stream",
     "text": [
      "StockQuote object (8625131)\n"
     ]
    }
   ],
   "source": [
    "ticker = \"AAPL\"\n",
    "days = 90\n",
    "queryset = market_services.get_daily_stock_quotes_queryset(ticker, days=days)\n",
    "averages = market_services.get_daily_moving_averages(ticker, days=days, queryset=queryset)\n",
    "price_target = market_services.get_price_target(ticker, days=days, queryset=queryset)\n",
    "volume_trend = market_services.get_volume_trend(ticker, days=days, queryset=queryset)\n",
    "rsi = market_services.calculate_rsi(ticker, days=days)"
   ]
  },
  {
   "cell_type": "code",
   "execution_count": 12,
   "id": "83de4c5c-f2f6-401e-92d1-be8dd85e7871",
   "metadata": {},
   "outputs": [
    {
     "data": {
      "text/plain": [
       "65"
      ]
     },
     "execution_count": 12,
     "metadata": {},
     "output_type": "execute_result"
    }
   ],
   "source": [
    "queryset.count()"
   ]
  },
  {
   "cell_type": "code",
   "execution_count": 13,
   "id": "40d78422-aa5f-4361-807c-6fc1fba3e8ac",
   "metadata": {},
   "outputs": [
    {
     "data": {
      "text/plain": [
       "{'ma_5': Decimal('224.9920'), 'ma_20': Decimal('227.5094')}"
      ]
     },
     "execution_count": 13,
     "metadata": {},
     "output_type": "execute_result"
    }
   ],
   "source": [
    "averages"
   ]
  },
  {
   "cell_type": "code",
   "execution_count": 14,
   "id": "ff90bdad-135e-4e84-a176-c1171a2ee84a",
   "metadata": {},
   "outputs": [
    {
     "data": {
      "text/plain": [
       "{'current_price': 224.72,\n",
       " 'conservative_target': 232.4937,\n",
       " 'aggressive_target': 237.2963,\n",
       " 'average_price': 226.4529}"
      ]
     },
     "execution_count": 14,
     "metadata": {},
     "output_type": "execute_result"
    }
   ],
   "source": [
    "price_target"
   ]
  },
  {
   "cell_type": "code",
   "execution_count": 15,
   "id": "94a14e75-3517-4606-84ff-2cb270da55ce",
   "metadata": {},
   "outputs": [
    {
     "data": {
      "text/plain": [
       "{'avg_volume': 4691.4,\n",
       " 'latest_volume': 273,\n",
       " 'volume_change_percent': -94.18084153983885}"
      ]
     },
     "execution_count": 15,
     "metadata": {},
     "output_type": "execute_result"
    }
   ],
   "source": [
    "volume_trend"
   ]
  },
  {
   "cell_type": "code",
   "execution_count": 16,
   "id": "b55ba173-759a-48de-82ea-336c9b40f99e",
   "metadata": {},
   "outputs": [
    {
     "data": {
      "text/plain": [
       "{'rsi': 49.0119,\n",
       " 'avg_gain': 0.9845,\n",
       " 'avg_loss': 1.0242,\n",
       " 'period': 22,\n",
       " 'days': 90}"
      ]
     },
     "execution_count": 16,
     "metadata": {},
     "output_type": "execute_result"
    }
   ],
   "source": [
    "rsi"
   ]
  },
  {
   "cell_type": "code",
   "execution_count": null,
   "id": "2950c286-0a81-4821-946a-c97af92e5d99",
   "metadata": {},
   "outputs": [],
   "source": []
  },
  {
   "cell_type": "code",
   "execution_count": null,
   "id": "e7a65b3a-10eb-4d72-816d-fb32fd392a4c",
   "metadata": {},
   "outputs": [],
   "source": []
  }
 ],
 "metadata": {
  "kernelspec": {
   "display_name": "Python 3 (ipykernel)",
   "language": "python",
   "name": "python3"
  },
  "language_info": {
   "codemirror_mode": {
    "name": "ipython",
    "version": 3
   },
   "file_extension": ".py",
   "mimetype": "text/x-python",
   "name": "python",
   "nbconvert_exporter": "python",
   "pygments_lexer": "ipython3",
   "version": "3.12.3"
  }
 },
 "nbformat": 4,
 "nbformat_minor": 5
}
